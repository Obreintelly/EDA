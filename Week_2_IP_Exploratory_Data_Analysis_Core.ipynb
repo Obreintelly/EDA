{
  "nbformat": 4,
  "nbformat_minor": 0,
  "metadata": {
    "colab": {
      "name": "Week_2_IP_Exploratory Data Analysis_Core.ipynb",
      "provenance": [],
      "collapsed_sections": [
        "cJsZhU7Qd3lA",
        "j3wE8Bk2f4bB",
        "ecw4CSwFgCUZ",
        "F4x0I-M7SFKr",
        "sLUoG5hXaFi3",
        "UiusfSpzmZls"
      ],
      "authorship_tag": "ABX9TyNviQ0erhy8worUg1Gkdt9B",
      "include_colab_link": true
    },
    "kernelspec": {
      "name": "python3",
      "display_name": "Python 3"
    }
  },
  "cells": [
    {
      "cell_type": "markdown",
      "metadata": {
        "id": "view-in-github",
        "colab_type": "text"
      },
      "source": [
        "<a href=\"https://colab.research.google.com/github/Obreintelly/EDA/blob/main/Week_2_IP_Exploratory_Data_Analysis_Core.ipynb\" target=\"_parent\"><img src=\"https://colab.research.google.com/assets/colab-badge.svg\" alt=\"Open In Colab\"/></a>"
      ]
    },
    {
      "cell_type": "markdown",
      "metadata": {
        "id": "goIlV-JvfS5p"
      },
      "source": [
        "# **Exploratory Data Analysis: Financial Inclusion in East Africa**"
      ]
    },
    {
      "cell_type": "markdown",
      "metadata": {
        "id": "uW6UEmyX2q9m"
      },
      "source": [
        "# **1.0 Defining the Question**\r\n",
        "\r\n",
        "---\r\n",
        "\r\n"
      ]
    },
    {
      "cell_type": "markdown",
      "metadata": {
        "id": "6jIMfD1Y4hAF"
      },
      "source": [
        "a) Specifying the Data Analytics Question"
      ]
    },
    {
      "cell_type": "markdown",
      "metadata": {
        "id": "kYIXo3b532r2"
      },
      "source": [
        "Does age, gender and location influence the opening of a bank account in Kenya, Tanzania, Uganda and Rwanda?"
      ]
    },
    {
      "cell_type": "markdown",
      "metadata": {
        "id": "y3dx3YLL4v5n"
      },
      "source": [
        "b) Defining the metric for success"
      ]
    },
    {
      "cell_type": "markdown",
      "metadata": {
        "id": "VagwkJFcl_Zb"
      },
      "source": [
        "How accurate gender, age, location among others determine whether one has a bank account or not"
      ]
    },
    {
      "cell_type": "markdown",
      "metadata": {
        "id": "4z1OiaMB5kiW"
      },
      "source": [
        "c) Understanding the context"
      ]
    },
    {
      "cell_type": "markdown",
      "metadata": {
        "id": "GxFxRCv-mUZE"
      },
      "source": [
        "Across East Africa (Kenya, Uganda, Tanzania and Rwanda) financial inclusion has gained great focus because it is one of the ways in which people directly participate in the economy. Sending and receiving money for saving purposed or processing payments are facilitated by banks or mobile solutions. Banks invest a lot of money in adverts to get more people engaged. More people participating influences government's regulatory policy to protect unsophisticated citizens."
      ]
    },
    {
      "cell_type": "markdown",
      "metadata": {
        "id": "RePYDYvHylPx"
      },
      "source": [
        "d) Experiment Design\r\n",
        "\r\n",
        "1. Dataset acquisition\r\n",
        "2. Cleaning and tidying up dataset\r\n",
        "3. Carrying out univariate, bivariate and multivavriate analysis\r\n",
        "4. Challenging the solutions"
      ]
    },
    {
      "cell_type": "markdown",
      "metadata": {
        "id": "dxG5nWGHfhIX"
      },
      "source": [
        "# Importing Python Libraries"
      ]
    },
    {
      "cell_type": "code",
      "metadata": {
        "id": "9mTZd4QCdefU"
      },
      "source": [
        "#importing Pandas libraries\r\n",
        "import pandas as pd\r\n",
        "#importing numpy libraries\r\n",
        "import numpy as np\r\n",
        "#Importing Seaborn Library\r\n",
        "import seaborn as sns\r\n",
        "#Importing Matplotlib Library\r\n",
        "import matplotlib.pyplot as plt\r\n",
        "% matplotlib inline \r\n"
      ],
      "execution_count": 154,
      "outputs": []
    },
    {
      "cell_type": "code",
      "metadata": {
        "id": "kQnjuk573Teq"
      },
      "source": [
        "#Dataset url = http://bit.ly/FinancialDataset"
      ],
      "execution_count": 155,
      "outputs": []
    },
    {
      "cell_type": "markdown",
      "metadata": {
        "id": "cJsZhU7Qd3lA"
      },
      "source": [
        "# Loading and Previewing Our Dataset"
      ]
    },
    {
      "cell_type": "code",
      "metadata": {
        "colab": {
          "base_uri": "https://localhost:8080/",
          "height": 0
        },
        "id": "i4E8W70Zd01s",
        "outputId": "5e2e1248-ec54-4706-a5ab-43522cba16dc"
      },
      "source": [
        "finance= pd.read_csv('http://bit.ly/FinancialDataset')\r\n",
        "\r\n",
        "#Previewing the top of our dataset\r\n",
        "finance.head()"
      ],
      "execution_count": 156,
      "outputs": [
        {
          "output_type": "execute_result",
          "data": {
            "text/html": [
              "<div>\n",
              "<style scoped>\n",
              "    .dataframe tbody tr th:only-of-type {\n",
              "        vertical-align: middle;\n",
              "    }\n",
              "\n",
              "    .dataframe tbody tr th {\n",
              "        vertical-align: top;\n",
              "    }\n",
              "\n",
              "    .dataframe thead th {\n",
              "        text-align: right;\n",
              "    }\n",
              "</style>\n",
              "<table border=\"1\" class=\"dataframe\">\n",
              "  <thead>\n",
              "    <tr style=\"text-align: right;\">\n",
              "      <th></th>\n",
              "      <th>country</th>\n",
              "      <th>year</th>\n",
              "      <th>uniqueid</th>\n",
              "      <th>Has a Bank account</th>\n",
              "      <th>Type of Location</th>\n",
              "      <th>Cell Phone Access</th>\n",
              "      <th>household_size</th>\n",
              "      <th>Respondent Age</th>\n",
              "      <th>gender_of_respondent</th>\n",
              "      <th>The relathip with head</th>\n",
              "      <th>marital_status</th>\n",
              "      <th>Level of Educuation</th>\n",
              "      <th>Type of Job</th>\n",
              "    </tr>\n",
              "  </thead>\n",
              "  <tbody>\n",
              "    <tr>\n",
              "      <th>0</th>\n",
              "      <td>Kenya</td>\n",
              "      <td>2018</td>\n",
              "      <td>uniqueid_1</td>\n",
              "      <td>Yes</td>\n",
              "      <td>Rural</td>\n",
              "      <td>Yes</td>\n",
              "      <td>3.0</td>\n",
              "      <td>24.0</td>\n",
              "      <td>Female</td>\n",
              "      <td>Spouse</td>\n",
              "      <td>Married/Living together</td>\n",
              "      <td>Secondary education</td>\n",
              "      <td>Self employed</td>\n",
              "    </tr>\n",
              "    <tr>\n",
              "      <th>1</th>\n",
              "      <td>Kenya</td>\n",
              "      <td>2018</td>\n",
              "      <td>uniqueid_2</td>\n",
              "      <td>No</td>\n",
              "      <td>Rural</td>\n",
              "      <td>No</td>\n",
              "      <td>5.0</td>\n",
              "      <td>70.0</td>\n",
              "      <td>Female</td>\n",
              "      <td>Head of Household</td>\n",
              "      <td>Widowed</td>\n",
              "      <td>No formal education</td>\n",
              "      <td>Government Dependent</td>\n",
              "    </tr>\n",
              "    <tr>\n",
              "      <th>2</th>\n",
              "      <td>Kenya</td>\n",
              "      <td>2018</td>\n",
              "      <td>uniqueid_3</td>\n",
              "      <td>Yes</td>\n",
              "      <td>Urban</td>\n",
              "      <td>Yes</td>\n",
              "      <td>5.0</td>\n",
              "      <td>26.0</td>\n",
              "      <td>Male</td>\n",
              "      <td>Other relative</td>\n",
              "      <td>Single/Never Married</td>\n",
              "      <td>Vocational/Specialised training</td>\n",
              "      <td>Self employed</td>\n",
              "    </tr>\n",
              "    <tr>\n",
              "      <th>3</th>\n",
              "      <td>Kenya</td>\n",
              "      <td>2018</td>\n",
              "      <td>uniqueid_4</td>\n",
              "      <td>No</td>\n",
              "      <td>Rural</td>\n",
              "      <td>Yes</td>\n",
              "      <td>5.0</td>\n",
              "      <td>34.0</td>\n",
              "      <td>Female</td>\n",
              "      <td>Head of Household</td>\n",
              "      <td>Married/Living together</td>\n",
              "      <td>Primary education</td>\n",
              "      <td>Formally employed Private</td>\n",
              "    </tr>\n",
              "    <tr>\n",
              "      <th>4</th>\n",
              "      <td>Kenya</td>\n",
              "      <td>2018</td>\n",
              "      <td>uniqueid_5</td>\n",
              "      <td>No</td>\n",
              "      <td>Urban</td>\n",
              "      <td>No</td>\n",
              "      <td>8.0</td>\n",
              "      <td>26.0</td>\n",
              "      <td>Male</td>\n",
              "      <td>Child</td>\n",
              "      <td>Single/Never Married</td>\n",
              "      <td>Primary education</td>\n",
              "      <td>Informally employed</td>\n",
              "    </tr>\n",
              "  </tbody>\n",
              "</table>\n",
              "</div>"
            ],
            "text/plain": [
              "  country  year  ...              Level of Educuation                Type of Job\n",
              "0   Kenya  2018  ...              Secondary education              Self employed\n",
              "1   Kenya  2018  ...              No formal education       Government Dependent\n",
              "2   Kenya  2018  ...  Vocational/Specialised training              Self employed\n",
              "3   Kenya  2018  ...                Primary education  Formally employed Private\n",
              "4   Kenya  2018  ...                Primary education        Informally employed\n",
              "\n",
              "[5 rows x 13 columns]"
            ]
          },
          "metadata": {
            "tags": []
          },
          "execution_count": 156
        }
      ]
    },
    {
      "cell_type": "code",
      "metadata": {
        "colab": {
          "base_uri": "https://localhost:8080/",
          "height": 0
        },
        "id": "rozalg2Aeeca",
        "outputId": "a2ddd83e-4c10-4ab0-dfc4-e14ea66e29dd"
      },
      "source": [
        "#Preview the bottom of our dataset\r\n",
        "\r\n",
        "finance.tail()"
      ],
      "execution_count": 157,
      "outputs": [
        {
          "output_type": "execute_result",
          "data": {
            "text/html": [
              "<div>\n",
              "<style scoped>\n",
              "    .dataframe tbody tr th:only-of-type {\n",
              "        vertical-align: middle;\n",
              "    }\n",
              "\n",
              "    .dataframe tbody tr th {\n",
              "        vertical-align: top;\n",
              "    }\n",
              "\n",
              "    .dataframe thead th {\n",
              "        text-align: right;\n",
              "    }\n",
              "</style>\n",
              "<table border=\"1\" class=\"dataframe\">\n",
              "  <thead>\n",
              "    <tr style=\"text-align: right;\">\n",
              "      <th></th>\n",
              "      <th>country</th>\n",
              "      <th>year</th>\n",
              "      <th>uniqueid</th>\n",
              "      <th>Has a Bank account</th>\n",
              "      <th>Type of Location</th>\n",
              "      <th>Cell Phone Access</th>\n",
              "      <th>household_size</th>\n",
              "      <th>Respondent Age</th>\n",
              "      <th>gender_of_respondent</th>\n",
              "      <th>The relathip with head</th>\n",
              "      <th>marital_status</th>\n",
              "      <th>Level of Educuation</th>\n",
              "      <th>Type of Job</th>\n",
              "    </tr>\n",
              "  </thead>\n",
              "  <tbody>\n",
              "    <tr>\n",
              "      <th>23519</th>\n",
              "      <td>Uganda</td>\n",
              "      <td>2018</td>\n",
              "      <td>uniqueid_2113</td>\n",
              "      <td>No</td>\n",
              "      <td>Rural</td>\n",
              "      <td>Yes</td>\n",
              "      <td>4.0</td>\n",
              "      <td>48.0</td>\n",
              "      <td>Female</td>\n",
              "      <td>Head of Household</td>\n",
              "      <td>Divorced/Seperated</td>\n",
              "      <td>No formal education</td>\n",
              "      <td>Other Income</td>\n",
              "    </tr>\n",
              "    <tr>\n",
              "      <th>23520</th>\n",
              "      <td>Uganda</td>\n",
              "      <td>2018</td>\n",
              "      <td>uniqueid_2114</td>\n",
              "      <td>No</td>\n",
              "      <td>Rural</td>\n",
              "      <td>Yes</td>\n",
              "      <td>2.0</td>\n",
              "      <td>27.0</td>\n",
              "      <td>Female</td>\n",
              "      <td>Head of Household</td>\n",
              "      <td>Single/Never Married</td>\n",
              "      <td>Secondary education</td>\n",
              "      <td>Other Income</td>\n",
              "    </tr>\n",
              "    <tr>\n",
              "      <th>23521</th>\n",
              "      <td>Uganda</td>\n",
              "      <td>2018</td>\n",
              "      <td>uniqueid_2115</td>\n",
              "      <td>No</td>\n",
              "      <td>Rural</td>\n",
              "      <td>Yes</td>\n",
              "      <td>5.0</td>\n",
              "      <td>27.0</td>\n",
              "      <td>Female</td>\n",
              "      <td>Parent</td>\n",
              "      <td>Widowed</td>\n",
              "      <td>Primary education</td>\n",
              "      <td>Other Income</td>\n",
              "    </tr>\n",
              "    <tr>\n",
              "      <th>23522</th>\n",
              "      <td>Uganda</td>\n",
              "      <td>2018</td>\n",
              "      <td>uniqueid_2116</td>\n",
              "      <td>No</td>\n",
              "      <td>Urban</td>\n",
              "      <td>Yes</td>\n",
              "      <td>7.0</td>\n",
              "      <td>30.0</td>\n",
              "      <td>Female</td>\n",
              "      <td>Parent</td>\n",
              "      <td>Divorced/Seperated</td>\n",
              "      <td>Secondary education</td>\n",
              "      <td>Self employed</td>\n",
              "    </tr>\n",
              "    <tr>\n",
              "      <th>23523</th>\n",
              "      <td>Uganda</td>\n",
              "      <td>2018</td>\n",
              "      <td>uniqueid_2117</td>\n",
              "      <td>No</td>\n",
              "      <td>Rural</td>\n",
              "      <td>Yes</td>\n",
              "      <td>10.0</td>\n",
              "      <td>20.0</td>\n",
              "      <td>Male</td>\n",
              "      <td>Child</td>\n",
              "      <td>Single/Never Married</td>\n",
              "      <td>Secondary education</td>\n",
              "      <td>No Income</td>\n",
              "    </tr>\n",
              "  </tbody>\n",
              "</table>\n",
              "</div>"
            ],
            "text/plain": [
              "      country  year  ...  Level of Educuation    Type of Job\n",
              "23519  Uganda  2018  ...  No formal education   Other Income\n",
              "23520  Uganda  2018  ...  Secondary education   Other Income\n",
              "23521  Uganda  2018  ...    Primary education   Other Income\n",
              "23522  Uganda  2018  ...  Secondary education  Self employed\n",
              "23523  Uganda  2018  ...  Secondary education      No Income\n",
              "\n",
              "[5 rows x 13 columns]"
            ]
          },
          "metadata": {
            "tags": []
          },
          "execution_count": 157
        }
      ]
    },
    {
      "cell_type": "code",
      "metadata": {
        "colab": {
          "base_uri": "https://localhost:8080/"
        },
        "id": "4Din3iumeuVR",
        "outputId": "7132ed42-c049-434f-bdfc-5f4538ee9960"
      },
      "source": [
        "#Size of the dataset. Number of records in our dataset\r\n",
        "finance.shape"
      ],
      "execution_count": 158,
      "outputs": [
        {
          "output_type": "execute_result",
          "data": {
            "text/plain": [
              "(23524, 13)"
            ]
          },
          "metadata": {
            "tags": []
          },
          "execution_count": 158
        }
      ]
    },
    {
      "cell_type": "code",
      "metadata": {
        "id": "8F9amA-nhBVm",
        "colab": {
          "base_uri": "https://localhost:8080/"
        },
        "outputId": "e82c0d60-34bc-47a9-ed1c-22ec904f9120"
      },
      "source": [
        "#Checking our columns have the correct data types\r\n",
        "finance.info()"
      ],
      "execution_count": 159,
      "outputs": [
        {
          "output_type": "stream",
          "text": [
            "<class 'pandas.core.frame.DataFrame'>\n",
            "RangeIndex: 23524 entries, 0 to 23523\n",
            "Data columns (total 13 columns):\n",
            " #   Column                  Non-Null Count  Dtype  \n",
            "---  ------                  --------------  -----  \n",
            " 0   country                 23510 non-null  object \n",
            " 1   year                    23524 non-null  int64  \n",
            " 2   uniqueid                23524 non-null  object \n",
            " 3   Has a Bank account      23488 non-null  object \n",
            " 4   Type of Location        23509 non-null  object \n",
            " 5   Cell Phone Access       23513 non-null  object \n",
            " 6   household_size          23496 non-null  float64\n",
            " 7   Respondent Age          23490 non-null  float64\n",
            " 8   gender_of_respondent    23490 non-null  object \n",
            " 9   The relathip with head  23520 non-null  object \n",
            " 10  marital_status          23492 non-null  object \n",
            " 11  Level of Educuation     23495 non-null  object \n",
            " 12  Type of Job             23494 non-null  object \n",
            "dtypes: float64(2), int64(1), object(10)\n",
            "memory usage: 2.3+ MB\n"
          ],
          "name": "stdout"
        }
      ]
    },
    {
      "cell_type": "markdown",
      "metadata": {
        "id": "j3wE8Bk2f4bB"
      },
      "source": [
        "# **1.1 External Dataset Validation**"
      ]
    },
    {
      "cell_type": "markdown",
      "metadata": {
        "id": "78mUiSDo65A5"
      },
      "source": [
        "#Our data is credible and can be verfied by the following authoritative sources:\r\n",
        "#https://fsdkenya.org/publication/finaccess2019/ \r\n",
        "In Rwanda, for instance the data we have shows a high number of people with bank accounts which is consistent woth external data showing more than 1.4 million people have at least 1 bank product. \r\n",
        "#http://www.statistics.gov.rw/publication/finscope-rwanda-2016\r\n",
        "In Tanzania, 16.7% of people had bank accounts as of 2017 which is not far from what we have in our dataset(around 18%).\r\n",
        "# https://www.fsdt.or.tz/wp-content/uploads/2017/09/Finscope.pdf\r\n",
        "#http://www.fsdt.or.tz/finscope/\r\n",
        "#http://fsduganda.or.ug/finscope-2018-survey-report/"
      ]
    },
    {
      "cell_type": "markdown",
      "metadata": {
        "id": "ecw4CSwFgCUZ"
      },
      "source": [
        "# Tidying Up the Dataset"
      ]
    },
    {
      "cell_type": "code",
      "metadata": {
        "colab": {
          "base_uri": "https://localhost:8080/"
        },
        "id": "b7SH7cZ4gGwK",
        "outputId": "9d12e7d3-6183-4828-a50c-3826e0456386"
      },
      "source": [
        "finance.nunique()"
      ],
      "execution_count": 160,
      "outputs": [
        {
          "output_type": "execute_result",
          "data": {
            "text/plain": [
              "country                      4\n",
              "year                         6\n",
              "uniqueid                  8735\n",
              "Has a Bank account           2\n",
              "Type of Location             2\n",
              "Cell Phone Access            2\n",
              "household_size              21\n",
              "Respondent Age              85\n",
              "gender_of_respondent         2\n",
              "The relathip with head       6\n",
              "marital_status               5\n",
              "Level of Educuation          7\n",
              "Type of Job                 10\n",
              "dtype: int64"
            ]
          },
          "metadata": {
            "tags": []
          },
          "execution_count": 160
        }
      ]
    },
    {
      "cell_type": "code",
      "metadata": {
        "colab": {
          "base_uri": "https://localhost:8080/",
          "height": 406
        },
        "id": "Nj65ebFWZy-o",
        "outputId": "5b0a7c08-b624-459e-8ca6-25b3c71221c9"
      },
      "source": [
        "#Checking for missing values\r\n",
        "finance.isna()"
      ],
      "execution_count": 161,
      "outputs": [
        {
          "output_type": "execute_result",
          "data": {
            "text/html": [
              "<div>\n",
              "<style scoped>\n",
              "    .dataframe tbody tr th:only-of-type {\n",
              "        vertical-align: middle;\n",
              "    }\n",
              "\n",
              "    .dataframe tbody tr th {\n",
              "        vertical-align: top;\n",
              "    }\n",
              "\n",
              "    .dataframe thead th {\n",
              "        text-align: right;\n",
              "    }\n",
              "</style>\n",
              "<table border=\"1\" class=\"dataframe\">\n",
              "  <thead>\n",
              "    <tr style=\"text-align: right;\">\n",
              "      <th></th>\n",
              "      <th>country</th>\n",
              "      <th>year</th>\n",
              "      <th>uniqueid</th>\n",
              "      <th>Has a Bank account</th>\n",
              "      <th>Type of Location</th>\n",
              "      <th>Cell Phone Access</th>\n",
              "      <th>household_size</th>\n",
              "      <th>Respondent Age</th>\n",
              "      <th>gender_of_respondent</th>\n",
              "      <th>The relathip with head</th>\n",
              "      <th>marital_status</th>\n",
              "      <th>Level of Educuation</th>\n",
              "      <th>Type of Job</th>\n",
              "    </tr>\n",
              "  </thead>\n",
              "  <tbody>\n",
              "    <tr>\n",
              "      <th>0</th>\n",
              "      <td>False</td>\n",
              "      <td>False</td>\n",
              "      <td>False</td>\n",
              "      <td>False</td>\n",
              "      <td>False</td>\n",
              "      <td>False</td>\n",
              "      <td>False</td>\n",
              "      <td>False</td>\n",
              "      <td>False</td>\n",
              "      <td>False</td>\n",
              "      <td>False</td>\n",
              "      <td>False</td>\n",
              "      <td>False</td>\n",
              "    </tr>\n",
              "    <tr>\n",
              "      <th>1</th>\n",
              "      <td>False</td>\n",
              "      <td>False</td>\n",
              "      <td>False</td>\n",
              "      <td>False</td>\n",
              "      <td>False</td>\n",
              "      <td>False</td>\n",
              "      <td>False</td>\n",
              "      <td>False</td>\n",
              "      <td>False</td>\n",
              "      <td>False</td>\n",
              "      <td>False</td>\n",
              "      <td>False</td>\n",
              "      <td>False</td>\n",
              "    </tr>\n",
              "    <tr>\n",
              "      <th>2</th>\n",
              "      <td>False</td>\n",
              "      <td>False</td>\n",
              "      <td>False</td>\n",
              "      <td>False</td>\n",
              "      <td>False</td>\n",
              "      <td>False</td>\n",
              "      <td>False</td>\n",
              "      <td>False</td>\n",
              "      <td>False</td>\n",
              "      <td>False</td>\n",
              "      <td>False</td>\n",
              "      <td>False</td>\n",
              "      <td>False</td>\n",
              "    </tr>\n",
              "    <tr>\n",
              "      <th>3</th>\n",
              "      <td>False</td>\n",
              "      <td>False</td>\n",
              "      <td>False</td>\n",
              "      <td>False</td>\n",
              "      <td>False</td>\n",
              "      <td>False</td>\n",
              "      <td>False</td>\n",
              "      <td>False</td>\n",
              "      <td>False</td>\n",
              "      <td>False</td>\n",
              "      <td>False</td>\n",
              "      <td>False</td>\n",
              "      <td>False</td>\n",
              "    </tr>\n",
              "    <tr>\n",
              "      <th>4</th>\n",
              "      <td>False</td>\n",
              "      <td>False</td>\n",
              "      <td>False</td>\n",
              "      <td>False</td>\n",
              "      <td>False</td>\n",
              "      <td>False</td>\n",
              "      <td>False</td>\n",
              "      <td>False</td>\n",
              "      <td>False</td>\n",
              "      <td>False</td>\n",
              "      <td>False</td>\n",
              "      <td>False</td>\n",
              "      <td>False</td>\n",
              "    </tr>\n",
              "    <tr>\n",
              "      <th>...</th>\n",
              "      <td>...</td>\n",
              "      <td>...</td>\n",
              "      <td>...</td>\n",
              "      <td>...</td>\n",
              "      <td>...</td>\n",
              "      <td>...</td>\n",
              "      <td>...</td>\n",
              "      <td>...</td>\n",
              "      <td>...</td>\n",
              "      <td>...</td>\n",
              "      <td>...</td>\n",
              "      <td>...</td>\n",
              "      <td>...</td>\n",
              "    </tr>\n",
              "    <tr>\n",
              "      <th>23519</th>\n",
              "      <td>False</td>\n",
              "      <td>False</td>\n",
              "      <td>False</td>\n",
              "      <td>False</td>\n",
              "      <td>False</td>\n",
              "      <td>False</td>\n",
              "      <td>False</td>\n",
              "      <td>False</td>\n",
              "      <td>False</td>\n",
              "      <td>False</td>\n",
              "      <td>False</td>\n",
              "      <td>False</td>\n",
              "      <td>False</td>\n",
              "    </tr>\n",
              "    <tr>\n",
              "      <th>23520</th>\n",
              "      <td>False</td>\n",
              "      <td>False</td>\n",
              "      <td>False</td>\n",
              "      <td>False</td>\n",
              "      <td>False</td>\n",
              "      <td>False</td>\n",
              "      <td>False</td>\n",
              "      <td>False</td>\n",
              "      <td>False</td>\n",
              "      <td>False</td>\n",
              "      <td>False</td>\n",
              "      <td>False</td>\n",
              "      <td>False</td>\n",
              "    </tr>\n",
              "    <tr>\n",
              "      <th>23521</th>\n",
              "      <td>False</td>\n",
              "      <td>False</td>\n",
              "      <td>False</td>\n",
              "      <td>False</td>\n",
              "      <td>False</td>\n",
              "      <td>False</td>\n",
              "      <td>False</td>\n",
              "      <td>False</td>\n",
              "      <td>False</td>\n",
              "      <td>False</td>\n",
              "      <td>False</td>\n",
              "      <td>False</td>\n",
              "      <td>False</td>\n",
              "    </tr>\n",
              "    <tr>\n",
              "      <th>23522</th>\n",
              "      <td>False</td>\n",
              "      <td>False</td>\n",
              "      <td>False</td>\n",
              "      <td>False</td>\n",
              "      <td>False</td>\n",
              "      <td>False</td>\n",
              "      <td>False</td>\n",
              "      <td>False</td>\n",
              "      <td>False</td>\n",
              "      <td>False</td>\n",
              "      <td>False</td>\n",
              "      <td>False</td>\n",
              "      <td>False</td>\n",
              "    </tr>\n",
              "    <tr>\n",
              "      <th>23523</th>\n",
              "      <td>False</td>\n",
              "      <td>False</td>\n",
              "      <td>False</td>\n",
              "      <td>False</td>\n",
              "      <td>False</td>\n",
              "      <td>False</td>\n",
              "      <td>False</td>\n",
              "      <td>False</td>\n",
              "      <td>False</td>\n",
              "      <td>False</td>\n",
              "      <td>False</td>\n",
              "      <td>False</td>\n",
              "      <td>False</td>\n",
              "    </tr>\n",
              "  </tbody>\n",
              "</table>\n",
              "<p>23524 rows × 13 columns</p>\n",
              "</div>"
            ],
            "text/plain": [
              "       country   year  ...  Level of Educuation  Type of Job\n",
              "0        False  False  ...                False        False\n",
              "1        False  False  ...                False        False\n",
              "2        False  False  ...                False        False\n",
              "3        False  False  ...                False        False\n",
              "4        False  False  ...                False        False\n",
              "...        ...    ...  ...                  ...          ...\n",
              "23519    False  False  ...                False        False\n",
              "23520    False  False  ...                False        False\n",
              "23521    False  False  ...                False        False\n",
              "23522    False  False  ...                False        False\n",
              "23523    False  False  ...                False        False\n",
              "\n",
              "[23524 rows x 13 columns]"
            ]
          },
          "metadata": {
            "tags": []
          },
          "execution_count": 161
        }
      ]
    },
    {
      "cell_type": "code",
      "metadata": {
        "colab": {
          "base_uri": "https://localhost:8080/",
          "height": 384
        },
        "id": "SZQkksl1hEJB",
        "outputId": "d62e4cce-074a-4dba-ea21-6355aef74d5b"
      },
      "source": [
        "#Plotting missing values to visualize their distribution \r\n",
        "#\r\n",
        "finance.isna().sum().plot(kind='bar')\r\n",
        "plt.title('Distribution of missing values')\r\n",
        "plt.show()"
      ],
      "execution_count": 162,
      "outputs": [
        {
          "output_type": "display_data",
          "data": {
            "image/png": "[encoded data removed]",
            "text/plain": [
              "<Figure size 432x288 with 1 Axes>"
            ]
          },
          "metadata": {
            "tags": [],
            "needs_background": "light"
          }
        }
      ]
    },
    {
      "cell_type": "code",
      "metadata": {
        "id": "ekwwr-sZiAL_"
      },
      "source": [
        "#Dropping all the missing values since we have a big data sample size. \r\n",
        "#The effect on our findings will be miniscule. \r\n",
        "finance.dropna(inplace=True)"
      ],
      "execution_count": 163,
      "outputs": []
    },
    {
      "cell_type": "code",
      "metadata": {
        "colab": {
          "base_uri": "https://localhost:8080/"
        },
        "id": "97bMTRhCRYab",
        "outputId": "35b19aa9-0f23-4a7f-896b-e1ae74379445"
      },
      "source": [
        "finance.isna().any()"
      ],
      "execution_count": 164,
      "outputs": [
        {
          "output_type": "execute_result",
          "data": {
            "text/plain": [
              "country                   False\n",
              "year                      False\n",
              "uniqueid                  False\n",
              "Has a Bank account        False\n",
              "Type of Location          False\n",
              "Cell Phone Access         False\n",
              "household_size            False\n",
              "Respondent Age            False\n",
              "gender_of_respondent      False\n",
              "The relathip with head    False\n",
              "marital_status            False\n",
              "Level of Educuation       False\n",
              "Type of Job               False\n",
              "dtype: bool"
            ]
          },
          "metadata": {
            "tags": []
          },
          "execution_count": 164
        }
      ]
    },
    {
      "cell_type": "code",
      "metadata": {
        "colab": {
          "base_uri": "https://localhost:8080/"
        },
        "id": "WHP3EmgBaiU4",
        "outputId": "31c9fc30-d607-41e7-9a11-7b924c4816eb"
      },
      "source": [
        "#Checking for duplicates\r\n",
        "finance.duplicated()"
      ],
      "execution_count": 165,
      "outputs": [
        {
          "output_type": "execute_result",
          "data": {
            "text/plain": [
              "0        False\n",
              "1        False\n",
              "2        False\n",
              "3        False\n",
              "4        False\n",
              "         ...  \n",
              "23519    False\n",
              "23520    False\n",
              "23521    False\n",
              "23522    False\n",
              "23523    False\n",
              "Length: 23343, dtype: bool"
            ]
          },
          "metadata": {
            "tags": []
          },
          "execution_count": 165
        }
      ]
    },
    {
      "cell_type": "code",
      "metadata": {
        "colab": {
          "base_uri": "https://localhost:8080/",
          "height": 540
        },
        "id": "HfCBXJyaaqbw",
        "outputId": "d79af36e-c460-4c8c-b4c8-3e7c4bca8cff"
      },
      "source": [
        "#Doesn't seem like our data is duplicated. We proceed to drop any unseen duplicates.\r\n",
        "finance.drop_duplicates()"
      ],
      "execution_count": 166,
      "outputs": [
        {
          "output_type": "execute_result",
          "data": {
            "text/html": [
              "<div>\n",
              "<style scoped>\n",
              "    .dataframe tbody tr th:only-of-type {\n",
              "        vertical-align: middle;\n",
              "    }\n",
              "\n",
              "    .dataframe tbody tr th {\n",
              "        vertical-align: top;\n",
              "    }\n",
              "\n",
              "    .dataframe thead th {\n",
              "        text-align: right;\n",
              "    }\n",
              "</style>\n",
              "<table border=\"1\" class=\"dataframe\">\n",
              "  <thead>\n",
              "    <tr style=\"text-align: right;\">\n",
              "      <th></th>\n",
              "      <th>country</th>\n",
              "      <th>year</th>\n",
              "      <th>uniqueid</th>\n",
              "      <th>Has a Bank account</th>\n",
              "      <th>Type of Location</th>\n",
              "      <th>Cell Phone Access</th>\n",
              "      <th>household_size</th>\n",
              "      <th>Respondent Age</th>\n",
              "      <th>gender_of_respondent</th>\n",
              "      <th>The relathip with head</th>\n",
              "      <th>marital_status</th>\n",
              "      <th>Level of Educuation</th>\n",
              "      <th>Type of Job</th>\n",
              "    </tr>\n",
              "  </thead>\n",
              "  <tbody>\n",
              "    <tr>\n",
              "      <th>0</th>\n",
              "      <td>Kenya</td>\n",
              "      <td>2018</td>\n",
              "      <td>uniqueid_1</td>\n",
              "      <td>Yes</td>\n",
              "      <td>Rural</td>\n",
              "      <td>Yes</td>\n",
              "      <td>3.0</td>\n",
              "      <td>24.0</td>\n",
              "      <td>Female</td>\n",
              "      <td>Spouse</td>\n",
              "      <td>Married/Living together</td>\n",
              "      <td>Secondary education</td>\n",
              "      <td>Self employed</td>\n",
              "    </tr>\n",
              "    <tr>\n",
              "      <th>1</th>\n",
              "      <td>Kenya</td>\n",
              "      <td>2018</td>\n",
              "      <td>uniqueid_2</td>\n",
              "      <td>No</td>\n",
              "      <td>Rural</td>\n",
              "      <td>No</td>\n",
              "      <td>5.0</td>\n",
              "      <td>70.0</td>\n",
              "      <td>Female</td>\n",
              "      <td>Head of Household</td>\n",
              "      <td>Widowed</td>\n",
              "      <td>No formal education</td>\n",
              "      <td>Government Dependent</td>\n",
              "    </tr>\n",
              "    <tr>\n",
              "      <th>2</th>\n",
              "      <td>Kenya</td>\n",
              "      <td>2018</td>\n",
              "      <td>uniqueid_3</td>\n",
              "      <td>Yes</td>\n",
              "      <td>Urban</td>\n",
              "      <td>Yes</td>\n",
              "      <td>5.0</td>\n",
              "      <td>26.0</td>\n",
              "      <td>Male</td>\n",
              "      <td>Other relative</td>\n",
              "      <td>Single/Never Married</td>\n",
              "      <td>Vocational/Specialised training</td>\n",
              "      <td>Self employed</td>\n",
              "    </tr>\n",
              "    <tr>\n",
              "      <th>3</th>\n",
              "      <td>Kenya</td>\n",
              "      <td>2018</td>\n",
              "      <td>uniqueid_4</td>\n",
              "      <td>No</td>\n",
              "      <td>Rural</td>\n",
              "      <td>Yes</td>\n",
              "      <td>5.0</td>\n",
              "      <td>34.0</td>\n",
              "      <td>Female</td>\n",
              "      <td>Head of Household</td>\n",
              "      <td>Married/Living together</td>\n",
              "      <td>Primary education</td>\n",
              "      <td>Formally employed Private</td>\n",
              "    </tr>\n",
              "    <tr>\n",
              "      <th>4</th>\n",
              "      <td>Kenya</td>\n",
              "      <td>2018</td>\n",
              "      <td>uniqueid_5</td>\n",
              "      <td>No</td>\n",
              "      <td>Urban</td>\n",
              "      <td>No</td>\n",
              "      <td>8.0</td>\n",
              "      <td>26.0</td>\n",
              "      <td>Male</td>\n",
              "      <td>Child</td>\n",
              "      <td>Single/Never Married</td>\n",
              "      <td>Primary education</td>\n",
              "      <td>Informally employed</td>\n",
              "    </tr>\n",
              "    <tr>\n",
              "      <th>...</th>\n",
              "      <td>...</td>\n",
              "      <td>...</td>\n",
              "      <td>...</td>\n",
              "      <td>...</td>\n",
              "      <td>...</td>\n",
              "      <td>...</td>\n",
              "      <td>...</td>\n",
              "      <td>...</td>\n",
              "      <td>...</td>\n",
              "      <td>...</td>\n",
              "      <td>...</td>\n",
              "      <td>...</td>\n",
              "      <td>...</td>\n",
              "    </tr>\n",
              "    <tr>\n",
              "      <th>23519</th>\n",
              "      <td>Uganda</td>\n",
              "      <td>2018</td>\n",
              "      <td>uniqueid_2113</td>\n",
              "      <td>No</td>\n",
              "      <td>Rural</td>\n",
              "      <td>Yes</td>\n",
              "      <td>4.0</td>\n",
              "      <td>48.0</td>\n",
              "      <td>Female</td>\n",
              "      <td>Head of Household</td>\n",
              "      <td>Divorced/Seperated</td>\n",
              "      <td>No formal education</td>\n",
              "      <td>Other Income</td>\n",
              "    </tr>\n",
              "    <tr>\n",
              "      <th>23520</th>\n",
              "      <td>Uganda</td>\n",
              "      <td>2018</td>\n",
              "      <td>uniqueid_2114</td>\n",
              "      <td>No</td>\n",
              "      <td>Rural</td>\n",
              "      <td>Yes</td>\n",
              "      <td>2.0</td>\n",
              "      <td>27.0</td>\n",
              "      <td>Female</td>\n",
              "      <td>Head of Household</td>\n",
              "      <td>Single/Never Married</td>\n",
              "      <td>Secondary education</td>\n",
              "      <td>Other Income</td>\n",
              "    </tr>\n",
              "    <tr>\n",
              "      <th>23521</th>\n",
              "      <td>Uganda</td>\n",
              "      <td>2018</td>\n",
              "      <td>uniqueid_2115</td>\n",
              "      <td>No</td>\n",
              "      <td>Rural</td>\n",
              "      <td>Yes</td>\n",
              "      <td>5.0</td>\n",
              "      <td>27.0</td>\n",
              "      <td>Female</td>\n",
              "      <td>Parent</td>\n",
              "      <td>Widowed</td>\n",
              "      <td>Primary education</td>\n",
              "      <td>Other Income</td>\n",
              "    </tr>\n",
              "    <tr>\n",
              "      <th>23522</th>\n",
              "      <td>Uganda</td>\n",
              "      <td>2018</td>\n",
              "      <td>uniqueid_2116</td>\n",
              "      <td>No</td>\n",
              "      <td>Urban</td>\n",
              "      <td>Yes</td>\n",
              "      <td>7.0</td>\n",
              "      <td>30.0</td>\n",
              "      <td>Female</td>\n",
              "      <td>Parent</td>\n",
              "      <td>Divorced/Seperated</td>\n",
              "      <td>Secondary education</td>\n",
              "      <td>Self employed</td>\n",
              "    </tr>\n",
              "    <tr>\n",
              "      <th>23523</th>\n",
              "      <td>Uganda</td>\n",
              "      <td>2018</td>\n",
              "      <td>uniqueid_2117</td>\n",
              "      <td>No</td>\n",
              "      <td>Rural</td>\n",
              "      <td>Yes</td>\n",
              "      <td>10.0</td>\n",
              "      <td>20.0</td>\n",
              "      <td>Male</td>\n",
              "      <td>Child</td>\n",
              "      <td>Single/Never Married</td>\n",
              "      <td>Secondary education</td>\n",
              "      <td>No Income</td>\n",
              "    </tr>\n",
              "  </tbody>\n",
              "</table>\n",
              "<p>23343 rows × 13 columns</p>\n",
              "</div>"
            ],
            "text/plain": [
              "      country  year  ...              Level of Educuation                Type of Job\n",
              "0       Kenya  2018  ...              Secondary education              Self employed\n",
              "1       Kenya  2018  ...              No formal education       Government Dependent\n",
              "2       Kenya  2018  ...  Vocational/Specialised training              Self employed\n",
              "3       Kenya  2018  ...                Primary education  Formally employed Private\n",
              "4       Kenya  2018  ...                Primary education        Informally employed\n",
              "...       ...   ...  ...                              ...                        ...\n",
              "23519  Uganda  2018  ...              No formal education               Other Income\n",
              "23520  Uganda  2018  ...              Secondary education               Other Income\n",
              "23521  Uganda  2018  ...                Primary education               Other Income\n",
              "23522  Uganda  2018  ...              Secondary education              Self employed\n",
              "23523  Uganda  2018  ...              Secondary education                  No Income\n",
              "\n",
              "[23343 rows x 13 columns]"
            ]
          },
          "metadata": {
            "tags": []
          },
          "execution_count": 166
        }
      ]
    },
    {
      "cell_type": "markdown",
      "metadata": {
        "id": "F4x0I-M7SFKr"
      },
      "source": [
        "# Tidying Up Columns"
      ]
    },
    {
      "cell_type": "code",
      "metadata": {
        "id": "rUuAlMADcePx"
      },
      "source": [
        "#Rename Columns\r\n",
        "finance.rename(columns={'Level of Educuation':'Education_level','Type of Location':'Location','Respondent Age':'Age','gender_of_respondent':'Gender','Cell Phone Access':'Cellphone Access', 'The relathip with head':'relationship with head', 'Type of Job':'Job_type'}, inplace=True)"
      ],
      "execution_count": 167,
      "outputs": []
    },
    {
      "cell_type": "code",
      "metadata": {
        "colab": {
          "base_uri": "https://localhost:8080/",
          "height": 0
        },
        "id": "nupkoVrqbXnH",
        "outputId": "a50bdfe6-356a-4ba6-d665-d90ed1bc6845"
      },
      "source": [
        "#Standardizing columns\r\n",
        "finance.columns = finance.columns.str.strip().str.upper().str.replace(' ', '_')\r\n",
        "finance.head(1)"
      ],
      "execution_count": 168,
      "outputs": [
        {
          "output_type": "execute_result",
          "data": {
            "text/html": [
              "<div>\n",
              "<style scoped>\n",
              "    .dataframe tbody tr th:only-of-type {\n",
              "        vertical-align: middle;\n",
              "    }\n",
              "\n",
              "    .dataframe tbody tr th {\n",
              "        vertical-align: top;\n",
              "    }\n",
              "\n",
              "    .dataframe thead th {\n",
              "        text-align: right;\n",
              "    }\n",
              "</style>\n",
              "<table border=\"1\" class=\"dataframe\">\n",
              "  <thead>\n",
              "    <tr style=\"text-align: right;\">\n",
              "      <th></th>\n",
              "      <th>COUNTRY</th>\n",
              "      <th>YEAR</th>\n",
              "      <th>UNIQUEID</th>\n",
              "      <th>HAS_A_BANK_ACCOUNT</th>\n",
              "      <th>LOCATION</th>\n",
              "      <th>CELLPHONE_ACCESS</th>\n",
              "      <th>HOUSEHOLD_SIZE</th>\n",
              "      <th>AGE</th>\n",
              "      <th>GENDER</th>\n",
              "      <th>RELATIONSHIP_WITH_HEAD</th>\n",
              "      <th>MARITAL_STATUS</th>\n",
              "      <th>EDUCATION_LEVEL</th>\n",
              "      <th>JOB_TYPE</th>\n",
              "    </tr>\n",
              "  </thead>\n",
              "  <tbody>\n",
              "    <tr>\n",
              "      <th>0</th>\n",
              "      <td>Kenya</td>\n",
              "      <td>2018</td>\n",
              "      <td>uniqueid_1</td>\n",
              "      <td>Yes</td>\n",
              "      <td>Rural</td>\n",
              "      <td>Yes</td>\n",
              "      <td>3.0</td>\n",
              "      <td>24.0</td>\n",
              "      <td>Female</td>\n",
              "      <td>Spouse</td>\n",
              "      <td>Married/Living together</td>\n",
              "      <td>Secondary education</td>\n",
              "      <td>Self employed</td>\n",
              "    </tr>\n",
              "  </tbody>\n",
              "</table>\n",
              "</div>"
            ],
            "text/plain": [
              "  COUNTRY  YEAR  ...      EDUCATION_LEVEL       JOB_TYPE\n",
              "0   Kenya  2018  ...  Secondary education  Self employed\n",
              "\n",
              "[1 rows x 13 columns]"
            ]
          },
          "metadata": {
            "tags": []
          },
          "execution_count": 168
        }
      ]
    },
    {
      "cell_type": "code",
      "metadata": {
        "colab": {
          "base_uri": "https://localhost:8080/"
        },
        "id": "JWhZcgZL99sB",
        "outputId": "1fbb7dab-b0ae-4813-c7ca-77b6023f805b"
      },
      "source": [
        "#Dropping columns we do not need to answer the question under investigations\r\n",
        "finance['HOUSEHOLD_SIZE'].unique()"
      ],
      "execution_count": 169,
      "outputs": [
        {
          "output_type": "execute_result",
          "data": {
            "text/plain": [
              "array([ 3.,  5.,  8.,  7.,  1.,  6.,  4., 10.,  2., 11.,  9., 12., 16.,\n",
              "       15., 13., 14., 21.,  0., 18., 17., 20.])"
            ]
          },
          "metadata": {
            "tags": []
          },
          "execution_count": 169
        }
      ]
    },
    {
      "cell_type": "code",
      "metadata": {
        "colab": {
          "base_uri": "https://localhost:8080/"
        },
        "id": "cyQYq50AMWcH",
        "outputId": "55b99307-6c15-49e2-b10d-5cca98db2e63"
      },
      "source": [
        "#Investigating our columns further\r\n",
        "finance['YEAR'].unique()"
      ],
      "execution_count": 170,
      "outputs": [
        {
          "output_type": "execute_result",
          "data": {
            "text/plain": [
              "array([2018, 2029, 2056, 2016, 2039, 2017])"
            ]
          },
          "metadata": {
            "tags": []
          },
          "execution_count": 170
        }
      ]
    },
    {
      "cell_type": "code",
      "metadata": {
        "colab": {
          "base_uri": "https://localhost:8080/",
          "height": 0
        },
        "id": "yl9C7y7CMvAu",
        "outputId": "746997a1-7eca-4c58-9d8f-70f6638464ed"
      },
      "source": [
        "#From the dataset description and external data, we know we do not have data beyond 2018\r\n",
        "#However ourdataset has Years 2029, 2039 and 2056\r\n",
        "#Let's check where and how many times they appear. \r\n",
        "finance[finance['YEAR']>2018]"
      ],
      "execution_count": 171,
      "outputs": [
        {
          "output_type": "execute_result",
          "data": {
            "text/html": [
              "<div>\n",
              "<style scoped>\n",
              "    .dataframe tbody tr th:only-of-type {\n",
              "        vertical-align: middle;\n",
              "    }\n",
              "\n",
              "    .dataframe tbody tr th {\n",
              "        vertical-align: top;\n",
              "    }\n",
              "\n",
              "    .dataframe thead th {\n",
              "        text-align: right;\n",
              "    }\n",
              "</style>\n",
              "<table border=\"1\" class=\"dataframe\">\n",
              "  <thead>\n",
              "    <tr style=\"text-align: right;\">\n",
              "      <th></th>\n",
              "      <th>COUNTRY</th>\n",
              "      <th>YEAR</th>\n",
              "      <th>UNIQUEID</th>\n",
              "      <th>HAS_A_BANK_ACCOUNT</th>\n",
              "      <th>LOCATION</th>\n",
              "      <th>CELLPHONE_ACCESS</th>\n",
              "      <th>HOUSEHOLD_SIZE</th>\n",
              "      <th>AGE</th>\n",
              "      <th>GENDER</th>\n",
              "      <th>RELATIONSHIP_WITH_HEAD</th>\n",
              "      <th>MARITAL_STATUS</th>\n",
              "      <th>EDUCATION_LEVEL</th>\n",
              "      <th>JOB_TYPE</th>\n",
              "    </tr>\n",
              "  </thead>\n",
              "  <tbody>\n",
              "    <tr>\n",
              "      <th>213</th>\n",
              "      <td>Kenya</td>\n",
              "      <td>2029</td>\n",
              "      <td>uniqueid_214</td>\n",
              "      <td>No</td>\n",
              "      <td>Urban</td>\n",
              "      <td>Yes</td>\n",
              "      <td>6.0</td>\n",
              "      <td>16.0</td>\n",
              "      <td>Male</td>\n",
              "      <td>Other relative</td>\n",
              "      <td>Single/Never Married</td>\n",
              "      <td>Secondary education</td>\n",
              "      <td>Remittance Dependent</td>\n",
              "    </tr>\n",
              "    <tr>\n",
              "      <th>308</th>\n",
              "      <td>Kenya</td>\n",
              "      <td>2056</td>\n",
              "      <td>uniqueid_309</td>\n",
              "      <td>Yes</td>\n",
              "      <td>Urban</td>\n",
              "      <td>Yes</td>\n",
              "      <td>4.0</td>\n",
              "      <td>40.0</td>\n",
              "      <td>Male</td>\n",
              "      <td>Head of Household</td>\n",
              "      <td>Married/Living together</td>\n",
              "      <td>Tertiary education</td>\n",
              "      <td>Formally employed Private</td>\n",
              "    </tr>\n",
              "    <tr>\n",
              "      <th>7014</th>\n",
              "      <td>Rwanda</td>\n",
              "      <td>2039</td>\n",
              "      <td>uniqueid_947</td>\n",
              "      <td>No</td>\n",
              "      <td>Rural</td>\n",
              "      <td>Yes</td>\n",
              "      <td>3.0</td>\n",
              "      <td>24.0</td>\n",
              "      <td>Female</td>\n",
              "      <td>Spouse</td>\n",
              "      <td>Married/Living together</td>\n",
              "      <td>Primary education</td>\n",
              "      <td>Informally employed</td>\n",
              "    </tr>\n",
              "  </tbody>\n",
              "</table>\n",
              "</div>"
            ],
            "text/plain": [
              "     COUNTRY  YEAR  ...      EDUCATION_LEVEL                   JOB_TYPE\n",
              "213    Kenya  2029  ...  Secondary education       Remittance Dependent\n",
              "308    Kenya  2056  ...   Tertiary education  Formally employed Private\n",
              "7014  Rwanda  2039  ...    Primary education        Informally employed\n",
              "\n",
              "[3 rows x 13 columns]"
            ]
          },
          "metadata": {
            "tags": []
          },
          "execution_count": 171
        }
      ]
    },
    {
      "cell_type": "code",
      "metadata": {
        "colab": {
          "base_uri": "https://localhost:8080/"
        },
        "id": "qcP3LST0NzRp",
        "outputId": "919eb66e-c7ae-4d55-c393-cc133efc15ec"
      },
      "source": [
        "#Dropping years not in scope\r\n",
        "finance = finance.drop(finance[finance['YEAR']>2018].index)\r\n",
        "\r\n",
        "finance['YEAR'].unique()"
      ],
      "execution_count": 172,
      "outputs": [
        {
          "output_type": "execute_result",
          "data": {
            "text/plain": [
              "array([2018, 2016, 2017])"
            ]
          },
          "metadata": {
            "tags": []
          },
          "execution_count": 172
        }
      ]
    },
    {
      "cell_type": "code",
      "metadata": {
        "colab": {
          "base_uri": "https://localhost:8080/"
        },
        "id": "usGT1uYtQxxh",
        "outputId": "7b61d846-d73f-4afa-accf-6a119f65c0b4"
      },
      "source": [
        "#Investigating the Country column\r\n",
        "finance['COUNTRY'].unique()"
      ],
      "execution_count": 173,
      "outputs": [
        {
          "output_type": "execute_result",
          "data": {
            "text/plain": [
              "array(['Kenya', 'Rwanda', 'Tanzania', 'Uganda'], dtype=object)"
            ]
          },
          "metadata": {
            "tags": []
          },
          "execution_count": 173
        }
      ]
    },
    {
      "cell_type": "code",
      "metadata": {
        "colab": {
          "base_uri": "https://localhost:8080/"
        },
        "id": "pkgf1kwKTzZ9",
        "outputId": "3999e6e3-21d4-4ba5-b335-8c8030b853ae"
      },
      "source": [
        "#Investigating the Age Column \r\n",
        "finance['AGE'].unique()"
      ],
      "execution_count": 174,
      "outputs": [
        {
          "output_type": "execute_result",
          "data": {
            "text/plain": [
              "array([ 24.,  70.,  26.,  34.,  32.,  42.,  54.,  76.,  40.,  69.,  64.,\n",
              "        31.,  38.,  47.,  27.,  48.,  25.,  21.,  18.,  22.,  58.,  55.,\n",
              "        62.,  29.,  35.,  45.,  67.,  19.,  80.,  66.,  50.,  33.,  28.,\n",
              "        51.,  16.,  17.,  30.,  37.,  59.,  65.,  46.,  56.,  52.,  23.,\n",
              "        43.,  49.,  44.,  72.,  53.,  63.,  39.,  81.,  78.,  36.,  20.,\n",
              "        60.,  95.,  71.,  57.,  85.,  68.,  41.,  61.,  75.,  86.,  73.,\n",
              "        93.,  74.,  88.,  90.,  77.,  84.,  82.,  89.,  79.,  83.,  94.,\n",
              "        87.,  92.,  91.,  98.,  97.,  96.,  99., 100.])"
            ]
          },
          "metadata": {
            "tags": []
          },
          "execution_count": 174
        }
      ]
    },
    {
      "cell_type": "code",
      "metadata": {
        "id": "JH60pUzQ-x6f"
      },
      "source": [
        "finance.drop(['UNIQUEID', 'MARITAL_STATUS','RELATIONSHIP_WITH_HEAD'], axis=1, inplace=True)"
      ],
      "execution_count": 175,
      "outputs": []
    },
    {
      "cell_type": "code",
      "metadata": {
        "colab": {
          "base_uri": "https://localhost:8080/"
        },
        "id": "k_TrXpA3_iiP",
        "outputId": "9c1e4bc5-bc58-482d-c56b-476cc549d515"
      },
      "source": [
        "#Checking number of records in our dataset\r\n",
        "finance.shape"
      ],
      "execution_count": 176,
      "outputs": [
        {
          "output_type": "execute_result",
          "data": {
            "text/plain": [
              "(23340, 10)"
            ]
          },
          "metadata": {
            "tags": []
          },
          "execution_count": 176
        }
      ]
    },
    {
      "cell_type": "code",
      "metadata": {
        "colab": {
          "base_uri": "https://localhost:8080/",
          "height": 0
        },
        "id": "m5amNqTJUMQn",
        "outputId": "d567bbdb-e9ed-4031-90d3-b620943dd31d"
      },
      "source": [
        "#Display remaining columns\r\n",
        "finance.head()"
      ],
      "execution_count": 177,
      "outputs": [
        {
          "output_type": "execute_result",
          "data": {
            "text/html": [
              "<div>\n",
              "<style scoped>\n",
              "    .dataframe tbody tr th:only-of-type {\n",
              "        vertical-align: middle;\n",
              "    }\n",
              "\n",
              "    .dataframe tbody tr th {\n",
              "        vertical-align: top;\n",
              "    }\n",
              "\n",
              "    .dataframe thead th {\n",
              "        text-align: right;\n",
              "    }\n",
              "</style>\n",
              "<table border=\"1\" class=\"dataframe\">\n",
              "  <thead>\n",
              "    <tr style=\"text-align: right;\">\n",
              "      <th></th>\n",
              "      <th>COUNTRY</th>\n",
              "      <th>YEAR</th>\n",
              "      <th>HAS_A_BANK_ACCOUNT</th>\n",
              "      <th>LOCATION</th>\n",
              "      <th>CELLPHONE_ACCESS</th>\n",
              "      <th>HOUSEHOLD_SIZE</th>\n",
              "      <th>AGE</th>\n",
              "      <th>GENDER</th>\n",
              "      <th>EDUCATION_LEVEL</th>\n",
              "      <th>JOB_TYPE</th>\n",
              "    </tr>\n",
              "  </thead>\n",
              "  <tbody>\n",
              "    <tr>\n",
              "      <th>0</th>\n",
              "      <td>Kenya</td>\n",
              "      <td>2018</td>\n",
              "      <td>Yes</td>\n",
              "      <td>Rural</td>\n",
              "      <td>Yes</td>\n",
              "      <td>3.0</td>\n",
              "      <td>24.0</td>\n",
              "      <td>Female</td>\n",
              "      <td>Secondary education</td>\n",
              "      <td>Self employed</td>\n",
              "    </tr>\n",
              "    <tr>\n",
              "      <th>1</th>\n",
              "      <td>Kenya</td>\n",
              "      <td>2018</td>\n",
              "      <td>No</td>\n",
              "      <td>Rural</td>\n",
              "      <td>No</td>\n",
              "      <td>5.0</td>\n",
              "      <td>70.0</td>\n",
              "      <td>Female</td>\n",
              "      <td>No formal education</td>\n",
              "      <td>Government Dependent</td>\n",
              "    </tr>\n",
              "    <tr>\n",
              "      <th>2</th>\n",
              "      <td>Kenya</td>\n",
              "      <td>2018</td>\n",
              "      <td>Yes</td>\n",
              "      <td>Urban</td>\n",
              "      <td>Yes</td>\n",
              "      <td>5.0</td>\n",
              "      <td>26.0</td>\n",
              "      <td>Male</td>\n",
              "      <td>Vocational/Specialised training</td>\n",
              "      <td>Self employed</td>\n",
              "    </tr>\n",
              "    <tr>\n",
              "      <th>3</th>\n",
              "      <td>Kenya</td>\n",
              "      <td>2018</td>\n",
              "      <td>No</td>\n",
              "      <td>Rural</td>\n",
              "      <td>Yes</td>\n",
              "      <td>5.0</td>\n",
              "      <td>34.0</td>\n",
              "      <td>Female</td>\n",
              "      <td>Primary education</td>\n",
              "      <td>Formally employed Private</td>\n",
              "    </tr>\n",
              "    <tr>\n",
              "      <th>4</th>\n",
              "      <td>Kenya</td>\n",
              "      <td>2018</td>\n",
              "      <td>No</td>\n",
              "      <td>Urban</td>\n",
              "      <td>No</td>\n",
              "      <td>8.0</td>\n",
              "      <td>26.0</td>\n",
              "      <td>Male</td>\n",
              "      <td>Primary education</td>\n",
              "      <td>Informally employed</td>\n",
              "    </tr>\n",
              "  </tbody>\n",
              "</table>\n",
              "</div>"
            ],
            "text/plain": [
              "  COUNTRY  YEAR  ...                  EDUCATION_LEVEL                   JOB_TYPE\n",
              "0   Kenya  2018  ...              Secondary education              Self employed\n",
              "1   Kenya  2018  ...              No formal education       Government Dependent\n",
              "2   Kenya  2018  ...  Vocational/Specialised training              Self employed\n",
              "3   Kenya  2018  ...                Primary education  Formally employed Private\n",
              "4   Kenya  2018  ...                Primary education        Informally employed\n",
              "\n",
              "[5 rows x 10 columns]"
            ]
          },
          "metadata": {
            "tags": []
          },
          "execution_count": 177
        }
      ]
    },
    {
      "cell_type": "code",
      "metadata": {
        "id": "dR08fT32MJjB"
      },
      "source": [
        ""
      ],
      "execution_count": 177,
      "outputs": []
    },
    {
      "cell_type": "code",
      "metadata": {
        "colab": {
          "base_uri": "https://localhost:8080/",
          "height": 0
        },
        "id": "gKcKx0NxMOUV",
        "outputId": "9f5b8304-4fdd-44b0-b831-79c972fa206b"
      },
      "source": [
        "#Checking for Outliers in Our Dataset\r\n",
        "bplot =sns.boxplot(y='AGE', x='COUNTRY', data= finance,  width=0.9, palette='colorblind')\r\n",
        "#There are outliers in our data. Ages 90 to 100 standout\r\n"
      ],
      "execution_count": 178,
      "outputs": [
        {
          "output_type": "display_data",
          "data": {
            "image/png": "[encoded data removed]",
            "text/plain": [
              "<Figure size 432x288 with 1 Axes>"
            ]
          },
          "metadata": {
            "tags": [],
            "needs_background": "light"
          }
        }
      ]
    },
    {
      "cell_type": "code",
      "metadata": {
        "colab": {
          "base_uri": "https://localhost:8080/",
          "height": 0
        },
        "id": "0kRmmANgY6sB",
        "outputId": "772bdf4b-48b8-4e67-8270-1e909c519f75"
      },
      "source": [
        "bplot =sns.boxplot(y='HOUSEHOLD_SIZE', x='COUNTRY', data= finance,  width=0.9, palette='colorblind')"
      ],
      "execution_count": 179,
      "outputs": [
        {
          "output_type": "display_data",
          "data": {
            "image/png": "[encoded data removed]",
            "text/plain": [
              "<Figure size 432x288 with 1 Axes>"
            ]
          },
          "metadata": {
            "tags": [],
            "needs_background": "light"
          }
        }
      ]
    },
    {
      "cell_type": "code",
      "metadata": {
        "id": "xBN5VueWEYqd"
      },
      "source": [
        "#Checking for anomalies\r\n",
        "#q1_age= finance['AGE'].quantile(.25)\r\n",
        "#q3_age= finance['AGE'].quantile(.75)\r\n",
        "#iqr_age = q3_age-q1_age\r\n",
        "\r\n",
        "#q1_house=finance['HOUSEHOLD_SIZE'].quantile(.25)\r\n",
        "#q3_house= finance['HOUSEHOLD_SIZE'].quantile(.75)\r\n",
        "#iqr_house= q3_house-q1_house\r\n",
        "\r\n",
        "#qi_age, q3_house=np.percentile(finance['AGE'],[25,75])\r\n",
        "#iqr = q3_house-q1_age\r\n",
        "\r\n",
        "#l_bound = q1_age - (1.5*iqr)\r\n",
        "#u_bound = q3_house + (1.5 * iqr)\r\n",
        "#print(iqr_age, iqr)\r\n",
        "\r\n",
        "q1= finance.quantile(0.25)\r\n",
        "q3= finance.quantile(0.75)\r\n",
        "iqr= q3-q1\r\n",
        "finance = finance[~((finance < (q1 - 1.5 * iqr)) | (finance > (q3 + 1.5 * iqr))).any(axis=1)]"
      ],
      "execution_count": 180,
      "outputs": []
    },
    {
      "cell_type": "code",
      "metadata": {
        "id": "ITTr7Du0pDpo"
      },
      "source": [
        ""
      ],
      "execution_count": 180,
      "outputs": []
    },
    {
      "cell_type": "markdown",
      "metadata": {
        "id": "wKBx9N7I_5Mg"
      },
      "source": [
        "# Save Tidied Up Version"
      ]
    },
    {
      "cell_type": "code",
      "metadata": {
        "id": "VQ7_yxZYAE73"
      },
      "source": [
        "finance.to_csv('finance_inclusion.csv', index=False)"
      ],
      "execution_count": 181,
      "outputs": []
    },
    {
      "cell_type": "code",
      "metadata": {
        "colab": {
          "base_uri": "https://localhost:8080/",
          "height": 197
        },
        "id": "NTQde9K5A13g",
        "outputId": "c2d019af-f7c4-4865-c28f-2c144b7e2f72"
      },
      "source": [
        "#Load our new Dataset\r\n",
        "finance_inclusion = pd.read_csv('/content/finance_inclusion.csv')\r\n",
        "finance_inclusion.head()"
      ],
      "execution_count": 182,
      "outputs": [
        {
          "output_type": "execute_result",
          "data": {
            "text/html": [
              "<div>\n",
              "<style scoped>\n",
              "    .dataframe tbody tr th:only-of-type {\n",
              "        vertical-align: middle;\n",
              "    }\n",
              "\n",
              "    .dataframe tbody tr th {\n",
              "        vertical-align: top;\n",
              "    }\n",
              "\n",
              "    .dataframe thead th {\n",
              "        text-align: right;\n",
              "    }\n",
              "</style>\n",
              "<table border=\"1\" class=\"dataframe\">\n",
              "  <thead>\n",
              "    <tr style=\"text-align: right;\">\n",
              "      <th></th>\n",
              "      <th>COUNTRY</th>\n",
              "      <th>YEAR</th>\n",
              "      <th>HAS_A_BANK_ACCOUNT</th>\n",
              "      <th>LOCATION</th>\n",
              "      <th>CELLPHONE_ACCESS</th>\n",
              "      <th>HOUSEHOLD_SIZE</th>\n",
              "      <th>AGE</th>\n",
              "      <th>GENDER</th>\n",
              "      <th>EDUCATION_LEVEL</th>\n",
              "      <th>JOB_TYPE</th>\n",
              "    </tr>\n",
              "  </thead>\n",
              "  <tbody>\n",
              "    <tr>\n",
              "      <th>0</th>\n",
              "      <td>Kenya</td>\n",
              "      <td>2018</td>\n",
              "      <td>Yes</td>\n",
              "      <td>Rural</td>\n",
              "      <td>Yes</td>\n",
              "      <td>3.0</td>\n",
              "      <td>24.0</td>\n",
              "      <td>Female</td>\n",
              "      <td>Secondary education</td>\n",
              "      <td>Self employed</td>\n",
              "    </tr>\n",
              "    <tr>\n",
              "      <th>1</th>\n",
              "      <td>Kenya</td>\n",
              "      <td>2018</td>\n",
              "      <td>No</td>\n",
              "      <td>Rural</td>\n",
              "      <td>No</td>\n",
              "      <td>5.0</td>\n",
              "      <td>70.0</td>\n",
              "      <td>Female</td>\n",
              "      <td>No formal education</td>\n",
              "      <td>Government Dependent</td>\n",
              "    </tr>\n",
              "    <tr>\n",
              "      <th>2</th>\n",
              "      <td>Kenya</td>\n",
              "      <td>2018</td>\n",
              "      <td>Yes</td>\n",
              "      <td>Urban</td>\n",
              "      <td>Yes</td>\n",
              "      <td>5.0</td>\n",
              "      <td>26.0</td>\n",
              "      <td>Male</td>\n",
              "      <td>Vocational/Specialised training</td>\n",
              "      <td>Self employed</td>\n",
              "    </tr>\n",
              "    <tr>\n",
              "      <th>3</th>\n",
              "      <td>Kenya</td>\n",
              "      <td>2018</td>\n",
              "      <td>No</td>\n",
              "      <td>Rural</td>\n",
              "      <td>Yes</td>\n",
              "      <td>5.0</td>\n",
              "      <td>34.0</td>\n",
              "      <td>Female</td>\n",
              "      <td>Primary education</td>\n",
              "      <td>Formally employed Private</td>\n",
              "    </tr>\n",
              "    <tr>\n",
              "      <th>4</th>\n",
              "      <td>Kenya</td>\n",
              "      <td>2018</td>\n",
              "      <td>No</td>\n",
              "      <td>Urban</td>\n",
              "      <td>No</td>\n",
              "      <td>8.0</td>\n",
              "      <td>26.0</td>\n",
              "      <td>Male</td>\n",
              "      <td>Primary education</td>\n",
              "      <td>Informally employed</td>\n",
              "    </tr>\n",
              "  </tbody>\n",
              "</table>\n",
              "</div>"
            ],
            "text/plain": [
              "  COUNTRY  YEAR  ...                  EDUCATION_LEVEL                   JOB_TYPE\n",
              "0   Kenya  2018  ...              Secondary education              Self employed\n",
              "1   Kenya  2018  ...              No formal education       Government Dependent\n",
              "2   Kenya  2018  ...  Vocational/Specialised training              Self employed\n",
              "3   Kenya  2018  ...                Primary education  Formally employed Private\n",
              "4   Kenya  2018  ...                Primary education        Informally employed\n",
              "\n",
              "[5 rows x 10 columns]"
            ]
          },
          "metadata": {
            "tags": []
          },
          "execution_count": 182
        }
      ]
    },
    {
      "cell_type": "code",
      "metadata": {
        "colab": {
          "base_uri": "https://localhost:8080/"
        },
        "id": "ehvhokWjY2H3",
        "outputId": "f128ab93-524c-4517-d0b8-df9f1fc843fa"
      },
      "source": [
        "finance_inclusion['EDUCATION_LEVEL'].unique()"
      ],
      "execution_count": 183,
      "outputs": [
        {
          "output_type": "execute_result",
          "data": {
            "text/plain": [
              "array(['Secondary education', 'No formal education',\n",
              "       'Vocational/Specialised training', 'Primary education',\n",
              "       'Tertiary education', 'Other/Dont know/RTA', '6'], dtype=object)"
            ]
          },
          "metadata": {
            "tags": []
          },
          "execution_count": 183
        }
      ]
    },
    {
      "cell_type": "markdown",
      "metadata": {
        "id": "KFu775ZgZUiA"
      },
      "source": [
        "# **1. Univariate Analysis**"
      ]
    },
    {
      "cell_type": "markdown",
      "metadata": {
        "id": "sLUoG5hXaFi3"
      },
      "source": [
        "# Categorical Variables in Our Dataset"
      ]
    },
    {
      "cell_type": "code",
      "metadata": {
        "colab": {
          "base_uri": "https://localhost:8080/"
        },
        "id": "Z_fTAvMoZa0S",
        "outputId": "b225d65e-4ed4-4542-d92c-aaa2c0f5898c"
      },
      "source": [
        "#Generating Frequency Tables for COUNTRY\r\n",
        "finance_inclusion.COUNTRY.value_counts()"
      ],
      "execution_count": 184,
      "outputs": [
        {
          "output_type": "execute_result",
          "data": {
            "text/plain": [
              "Rwanda      8512\n",
              "Tanzania    6424\n",
              "Kenya       5868\n",
              "Uganda      1921\n",
              "Name: COUNTRY, dtype: int64"
            ]
          },
          "metadata": {
            "tags": []
          },
          "execution_count": 184
        }
      ]
    },
    {
      "cell_type": "code",
      "metadata": {
        "colab": {
          "base_uri": "https://localhost:8080/",
          "height": 0
        },
        "id": "wII1iXLP_vgD",
        "outputId": "433dd76d-cf82-4560-97aa-093431450702"
      },
      "source": [
        "#Visual representation of frequency per country\r\n",
        "finance_inclusion.COUNTRY.value_counts().plot.bar()"
      ],
      "execution_count": 185,
      "outputs": [
        {
          "output_type": "execute_result",
          "data": {
            "text/plain": [
              "<matplotlib.axes._subplots.AxesSubplot at 0x7fdc883f7f50>"
            ]
          },
          "metadata": {
            "tags": []
          },
          "execution_count": 185
        },
        {
          "output_type": "display_data",
          "data": {
            "image/png": "[encoded data removed]",
            "text/plain": [
              "<Figure size 432x288 with 1 Axes>"
            ]
          },
          "metadata": {
            "tags": [],
            "needs_background": "light"
          }
        }
      ]
    },
    {
      "cell_type": "code",
      "metadata": {
        "colab": {
          "base_uri": "https://localhost:8080/"
        },
        "id": "bsSIa4FYa2Na",
        "outputId": "766265a9-90e4-4dc0-f2f2-f71b95ef886f"
      },
      "source": [
        "finance_inclusion.groupby('COUNTRY')['YEAR'].value_counts()"
      ],
      "execution_count": 186,
      "outputs": [
        {
          "output_type": "execute_result",
          "data": {
            "text/plain": [
              "COUNTRY   YEAR\n",
              "Kenya     2018    5868\n",
              "Rwanda    2016    8512\n",
              "Tanzania  2017    6424\n",
              "Uganda    2018    1921\n",
              "Name: YEAR, dtype: int64"
            ]
          },
          "metadata": {
            "tags": []
          },
          "execution_count": 186
        }
      ]
    },
    {
      "cell_type": "code",
      "metadata": {
        "colab": {
          "base_uri": "https://localhost:8080/",
          "height": 0
        },
        "id": "2WkCoA_Oc0-T",
        "outputId": "540c3844-bac5-49de-aef5-0cb1b4db9875"
      },
      "source": [
        "#Creating a histogram showing the age distribution in Kenya\r\n",
        "kenya_only = finance_inclusion[finance_inclusion['COUNTRY']=='Kenya']\r\n",
        "plt.hist(kenya_only['AGE'], bins=10, histtype='bar', rwidth=0.9)"
      ],
      "execution_count": 187,
      "outputs": [
        {
          "output_type": "execute_result",
          "data": {
            "text/plain": [
              "(array([ 911., 1090., 1091.,  707.,  542.,  540.,  324.,  266.,  279.,\n",
              "         118.]),\n",
              " array([16. , 22.7, 29.4, 36.1, 42.8, 49.5, 56.2, 62.9, 69.6, 76.3, 83. ]),\n",
              " <a list of 10 Patch objects>)"
            ]
          },
          "metadata": {
            "tags": []
          },
          "execution_count": 187
        },
        {
          "output_type": "display_data",
          "data": {
            "image/png": "[encoded data removed]",
            "text/plain": [
              "<Figure size 432x288 with 1 Axes>"
            ]
          },
          "metadata": {
            "tags": [],
            "needs_background": "light"
          }
        }
      ]
    },
    {
      "cell_type": "code",
      "metadata": {
        "colab": {
          "base_uri": "https://localhost:8080/",
          "height": 0
        },
        "id": "-2a3iM2iexB4",
        "outputId": "5193c848-b711-4238-be8a-d9701636e975"
      },
      "source": [
        "#Histogram of Kenyans with a bank acoount in Urban areas\r\n",
        "kenya_with_account= finance_inclusion[finance_inclusion['HAS_A_BANK_ACCOUNT']=='Yes']\r\n",
        "plt.hist(kenya_with_account['AGE'], bins=10, histtype='bar')"
      ],
      "execution_count": 188,
      "outputs": [
        {
          "output_type": "execute_result",
          "data": {
            "text/plain": [
              "(array([193., 679., 774., 512., 353., 300., 161., 120.,  95.,  48.]),\n",
              " array([16. , 22.7, 29.4, 36.1, 42.8, 49.5, 56.2, 62.9, 69.6, 76.3, 83. ]),\n",
              " <a list of 10 Patch objects>)"
            ]
          },
          "metadata": {
            "tags": []
          },
          "execution_count": 188
        },
        {
          "output_type": "display_data",
          "data": {
            "image/png": "[encoded data removed]",
            "text/plain": [
              "<Figure size 432x288 with 1 Axes>"
            ]
          },
          "metadata": {
            "tags": [],
            "needs_background": "light"
          }
        }
      ]
    },
    {
      "cell_type": "code",
      "metadata": {
        "id": "UDkjWKK6gc7R"
      },
      "source": [
        ""
      ],
      "execution_count": 188,
      "outputs": []
    },
    {
      "cell_type": "code",
      "metadata": {
        "colab": {
          "base_uri": "https://localhost:8080/",
          "height": 0
        },
        "id": "P8dpmoQvbH6S",
        "outputId": "6f7773b3-bd8f-4955-f242-e2e61a134719"
      },
      "source": [
        "finance_inclusion.groupby('COUNTRY')['GENDER'].value_counts().plot(kind='pie', autopct= '%1.1f%%')"
      ],
      "execution_count": 189,
      "outputs": [
        {
          "output_type": "execute_result",
          "data": {
            "text/plain": [
              "<matplotlib.axes._subplots.AxesSubplot at 0x7fdc732441d0>"
            ]
          },
          "metadata": {
            "tags": []
          },
          "execution_count": 189
        },
        {
          "output_type": "display_data",
          "data": {
            "image/png": "[encoded data removed]",
            "text/plain": [
              "<Figure size 432x288 with 1 Axes>"
            ]
          },
          "metadata": {
            "tags": []
          }
        }
      ]
    },
    {
      "cell_type": "code",
      "metadata": {
        "id": "ACcXFrd7Tapv"
      },
      "source": [
        "#Analysis for Kenya"
      ],
      "execution_count": 190,
      "outputs": []
    },
    {
      "cell_type": "code",
      "metadata": {
        "colab": {
          "base_uri": "https://localhost:8080/",
          "height": 0
        },
        "id": "095t5hF1PKq3",
        "outputId": "2f732677-8049-4aad-fa33-be4e3a50af1f"
      },
      "source": [
        "#Displaying Distribution of Bank Accounts by Gender in Kenya\r\n",
        "colors=['blue', 'gold']\r\n",
        "kenya_with_account['GENDER'].value_counts().plot(kind='pie', colors=colors, autopct='%1.0f%%')\r\n",
        "plt.title('Distribution of Bank Accounts by Gender in Kenya')"
      ],
      "execution_count": 191,
      "outputs": [
        {
          "output_type": "execute_result",
          "data": {
            "text/plain": [
              "Text(0.5, 1.0, 'Distribution of Bank Accounts by Gender in Kenya')"
            ]
          },
          "metadata": {
            "tags": []
          },
          "execution_count": 191
        },
        {
          "output_type": "display_data",
          "data": {
            "image/png": "[encoded data removed]",
            "text/plain": [
              "<Figure size 432x288 with 1 Axes>"
            ]
          },
          "metadata": {
            "tags": []
          }
        }
      ]
    },
    {
      "cell_type": "code",
      "metadata": {
        "id": "thScxqEoQ2ge"
      },
      "source": [
        "#Displaying data filtered for Kenyans without bank accounts\r\n",
        "kenya_no_account= finance_inclusion[finance_inclusion['HAS_A_BANK_ACCOUNT']=='No']"
      ],
      "execution_count": 192,
      "outputs": []
    },
    {
      "cell_type": "code",
      "metadata": {
        "colab": {
          "base_uri": "https://localhost:8080/",
          "height": 0
        },
        "id": "TIWKuy0URp-B",
        "outputId": "85bc7d93-342b-40c9-ed1b-90835adb3e23"
      },
      "source": [
        "#Kenyans without accounts by Gender\r\n",
        "explode =(0.1,0)\r\n",
        "kenya_no_account['GENDER'].value_counts().plot(kind='pie', explode=explode, shadow=True, autopct='%1.1f%%')\r\n",
        "plt.title('Distributions of Kenyans without Bank Accounts by Gender')"
      ],
      "execution_count": 193,
      "outputs": [
        {
          "output_type": "execute_result",
          "data": {
            "text/plain": [
              "Text(0.5, 1.0, 'Distributions of Kenyans without Bank Accounts by Gender')"
            ]
          },
          "metadata": {
            "tags": []
          },
          "execution_count": 193
        },
        {
          "output_type": "display_data",
          "data": {
            "image/png": "[encoded data removed]",
            "text/plain": [
              "<Figure size 432x288 with 1 Axes>"
            ]
          },
          "metadata": {
            "tags": []
          }
        }
      ]
    },
    {
      "cell_type": "code",
      "metadata": {
        "colab": {
          "base_uri": "https://localhost:8080/",
          "height": 0
        },
        "id": "bWkcV3LaPDIo",
        "outputId": "ec2acae0-2e87-47f6-b0c9-1ac57eb8c7c5"
      },
      "source": [
        "#Kenyans with Bank Accounts by location\r\n",
        "kenya_with_account['LOCATION'].value_counts().plot(kind='pie',  shadow=True, autopct='%1.1f%%')"
      ],
      "execution_count": 194,
      "outputs": [
        {
          "output_type": "execute_result",
          "data": {
            "text/plain": [
              "<matplotlib.axes._subplots.AxesSubplot at 0x7fdc730de390>"
            ]
          },
          "metadata": {
            "tags": []
          },
          "execution_count": 194
        },
        {
          "output_type": "display_data",
          "data": {
            "image/png": "[encoded data removed]",
            "text/plain": [
              "<Figure size 432x288 with 1 Axes>"
            ]
          },
          "metadata": {
            "tags": []
          }
        }
      ]
    },
    {
      "cell_type": "code",
      "metadata": {
        "colab": {
          "base_uri": "https://localhost:8080/",
          "height": 0
        },
        "id": "6bxNjR0KU5km",
        "outputId": "9df1f511-6f75-45ef-a5a8-0b4467038d6e"
      },
      "source": [
        "#Kenyans without Bank Accounts by Location\r\n",
        "\r\n",
        "colors= ['skyblue', 'brown', 'gold']\r\n",
        "kenya_no_account['LOCATION'].value_counts().plot(kind='pie', colors=colors, explode=explode, shadow=True, autopct='%1.1f%%')"
      ],
      "execution_count": 195,
      "outputs": [
        {
          "output_type": "execute_result",
          "data": {
            "text/plain": [
              "<matplotlib.axes._subplots.AxesSubplot at 0x7fdc730b0890>"
            ]
          },
          "metadata": {
            "tags": []
          },
          "execution_count": 195
        },
        {
          "output_type": "display_data",
          "data": {
            "image/png": "[encoded data removed]",
            "text/plain": [
              "<Figure size 432x288 with 1 Axes>"
            ]
          },
          "metadata": {
            "tags": []
          }
        }
      ]
    },
    {
      "cell_type": "code",
      "metadata": {
        "colab": {
          "base_uri": "https://localhost:8080/",
          "height": 0
        },
        "id": "8_OcjPWvWjLF",
        "outputId": "d509a4f9-a578-47c5-b1da-d44ca7616ba5"
      },
      "source": [
        "#KEnyans with Cellphone\r\n",
        "kenya_only['CELLPHONE_ACCESS'].value_counts().plot(kind='pie', autopct='%1.1f%%')\r\n",
        "plt.title('Kenyans with Cellphones Vs Without Cellphones')"
      ],
      "execution_count": 196,
      "outputs": [
        {
          "output_type": "execute_result",
          "data": {
            "text/plain": [
              "Text(0.5, 1.0, 'Kenyans with Cellphones Vs Without Cellphones')"
            ]
          },
          "metadata": {
            "tags": []
          },
          "execution_count": 196
        },
        {
          "output_type": "display_data",
          "data": {
            "image/png": "[encoded data removed]",
            "text/plain": [
              "<Figure size 432x288 with 1 Axes>"
            ]
          },
          "metadata": {
            "tags": []
          }
        }
      ]
    },
    {
      "cell_type": "code",
      "metadata": {
        "colab": {
          "base_uri": "https://localhost:8080/",
          "height": 0
        },
        "id": "xSq55aH8WFv-",
        "outputId": "9c362f6e-7148-417e-a0f1-4fa0b91963ca"
      },
      "source": [
        "#% Of Kenyans with cellphones and Bank Accounts by location\r\n",
        "cellphone_and_account = kenya_with_account[kenya_with_account['CELLPHONE_ACCESS']=='Yes']\r\n",
        "cellphone_and_account['LOCATION'].value_counts().plot(kind='pie', autopct='%1.1f%%') \r\n",
        "plt.title('% of Kenyans with both Phone and Account by Location')\r\n"
      ],
      "execution_count": 197,
      "outputs": [
        {
          "output_type": "execute_result",
          "data": {
            "text/plain": [
              "Text(0.5, 1.0, '% of Kenyans with both Phone and Account by Location')"
            ]
          },
          "metadata": {
            "tags": []
          },
          "execution_count": 197
        },
        {
          "output_type": "display_data",
          "data": {
            "image/png": "[encoded data removed]",
            "text/plain": [
              "<Figure size 432x288 with 1 Axes>"
            ]
          },
          "metadata": {
            "tags": []
          }
        }
      ]
    },
    {
      "cell_type": "code",
      "metadata": {
        "colab": {
          "base_uri": "https://localhost:8080/",
          "height": 0
        },
        "id": "xlR-t_W1drgR",
        "outputId": "54bd0ad4-6826-4738-f523-199d768e399e"
      },
      "source": [
        "# % of cellphone holders per country\r\n",
        "with_phone= finance_inclusion[finance_inclusion['CELLPHONE_ACCESS']=='Yes']\r\n",
        "with_phone.groupby('COUNTRY')['CELLPHONE_ACCESS'].value_counts().plot(kind='pie', autopct='%1.1f%%')\r\n",
        "plt.title('Cellphone holders Per Country')"
      ],
      "execution_count": 198,
      "outputs": [
        {
          "output_type": "execute_result",
          "data": {
            "text/plain": [
              "Text(0.5, 1.0, 'Cellphone holders Per Country')"
            ]
          },
          "metadata": {
            "tags": []
          },
          "execution_count": 198
        },
        {
          "output_type": "display_data",
          "data": {
            "image/png": "[encoded data removed]",
            "text/plain": [
              "<Figure size 432x288 with 1 Axes>"
            ]
          },
          "metadata": {
            "tags": []
          }
        }
      ]
    },
    {
      "cell_type": "code",
      "metadata": {
        "colab": {
          "base_uri": "https://localhost:8080/",
          "height": 0
        },
        "id": "49GpU9tsqMVk",
        "outputId": "3d57635d-8a2d-48b4-c585-c1d9305001d9"
      },
      "source": [
        "finance_inclusion['HAS_A_BANK_ACCOUNT'].value_counts().plot(kind='pie', autopct='%1.1f%%')\r\n",
        "plt.title('Percentage of Bank Accounts across the 4 countries')"
      ],
      "execution_count": 199,
      "outputs": [
        {
          "output_type": "execute_result",
          "data": {
            "text/plain": [
              "Text(0.5, 1.0, 'Percentage of Bank Accounts across the 4 countries')"
            ]
          },
          "metadata": {
            "tags": []
          },
          "execution_count": 199
        },
        {
          "output_type": "display_data",
          "data": {
            "image/png": "[encoded data removed]",
            "text/plain": [
              "<Figure size 432x288 with 1 Axes>"
            ]
          },
          "metadata": {
            "tags": []
          }
        }
      ]
    },
    {
      "cell_type": "code",
      "metadata": {
        "id": "iHtBtZyRgBAm"
      },
      "source": [
        "#explode= (0.1,0,0,0)\r\n",
        "#all_with_account.groupby('COUNTRY')['HAS_A_BANK_ACCOUNT'].value_counts().plot(kind='pie',shadow=True, explode=explode, autopct='%1.1f%%')\r\n",
        "#plt.title('Distribution of Bank Accounts per Country')"
      ],
      "execution_count": 200,
      "outputs": []
    },
    {
      "cell_type": "markdown",
      "metadata": {
        "id": "UiusfSpzmZls"
      },
      "source": [
        "# Numerical Variables"
      ]
    },
    {
      "cell_type": "code",
      "metadata": {
        "colab": {
          "base_uri": "https://localhost:8080/"
        },
        "id": "lQRs5yw4iNma",
        "outputId": "2de6452d-2e01-4bf6-ec58-a14c80e1a7a0"
      },
      "source": [
        "#Filtering for all countries where individuals have a bank acoount \r\n",
        "all_with_account=finance_inclusion[finance_inclusion['HAS_A_BANK_ACCOUNT']=='Yes']\r\n",
        "\r\n",
        "#Median Age with bank account\r\n",
        "all_with_account['AGE'].median()\r\n"
      ],
      "execution_count": 201,
      "outputs": [
        {
          "output_type": "execute_result",
          "data": {
            "text/plain": [
              "36.0"
            ]
          },
          "metadata": {
            "tags": []
          },
          "execution_count": 201
        }
      ]
    },
    {
      "cell_type": "code",
      "metadata": {
        "colab": {
          "base_uri": "https://localhost:8080/"
        },
        "id": "wQZn8SSNnKDI",
        "outputId": "a9ef9be8-aa04-4dd4-b39c-cb08a3a69bc1"
      },
      "source": [
        "#Most common age\r\n",
        "all_with_account['AGE'].mode()"
      ],
      "execution_count": 202,
      "outputs": [
        {
          "output_type": "execute_result",
          "data": {
            "text/plain": [
              "0    30.0\n",
              "dtype: float64"
            ]
          },
          "metadata": {
            "tags": []
          },
          "execution_count": 202
        }
      ]
    },
    {
      "cell_type": "code",
      "metadata": {
        "colab": {
          "base_uri": "https://localhost:8080/",
          "height": 0
        },
        "id": "ISpPtF8Oo-LY",
        "outputId": "b1faa490-da9e-4807-e6a0-1fff28be17f3"
      },
      "source": [
        "#More Analysis using describe\r\n",
        "\r\n",
        "all_with_account.describe()"
      ],
      "execution_count": 203,
      "outputs": [
        {
          "output_type": "execute_result",
          "data": {
            "text/html": [
              "<div>\n",
              "<style scoped>\n",
              "    .dataframe tbody tr th:only-of-type {\n",
              "        vertical-align: middle;\n",
              "    }\n",
              "\n",
              "    .dataframe tbody tr th {\n",
              "        vertical-align: top;\n",
              "    }\n",
              "\n",
              "    .dataframe thead th {\n",
              "        text-align: right;\n",
              "    }\n",
              "</style>\n",
              "<table border=\"1\" class=\"dataframe\">\n",
              "  <thead>\n",
              "    <tr style=\"text-align: right;\">\n",
              "      <th></th>\n",
              "      <th>YEAR</th>\n",
              "      <th>HOUSEHOLD_SIZE</th>\n",
              "      <th>AGE</th>\n",
              "    </tr>\n",
              "  </thead>\n",
              "  <tbody>\n",
              "    <tr>\n",
              "      <th>count</th>\n",
              "      <td>3235.000000</td>\n",
              "      <td>3235.000000</td>\n",
              "      <td>3235.000000</td>\n",
              "    </tr>\n",
              "    <tr>\n",
              "      <th>mean</th>\n",
              "      <td>2017.209274</td>\n",
              "      <td>3.458733</td>\n",
              "      <td>39.342195</td>\n",
              "    </tr>\n",
              "    <tr>\n",
              "      <th>std</th>\n",
              "      <td>0.878402</td>\n",
              "      <td>2.034887</td>\n",
              "      <td>13.943035</td>\n",
              "    </tr>\n",
              "    <tr>\n",
              "      <th>min</th>\n",
              "      <td>2016.000000</td>\n",
              "      <td>0.000000</td>\n",
              "      <td>16.000000</td>\n",
              "    </tr>\n",
              "    <tr>\n",
              "      <th>25%</th>\n",
              "      <td>2016.000000</td>\n",
              "      <td>2.000000</td>\n",
              "      <td>29.000000</td>\n",
              "    </tr>\n",
              "    <tr>\n",
              "      <th>50%</th>\n",
              "      <td>2018.000000</td>\n",
              "      <td>3.000000</td>\n",
              "      <td>36.000000</td>\n",
              "    </tr>\n",
              "    <tr>\n",
              "      <th>75%</th>\n",
              "      <td>2018.000000</td>\n",
              "      <td>5.000000</td>\n",
              "      <td>47.500000</td>\n",
              "    </tr>\n",
              "    <tr>\n",
              "      <th>max</th>\n",
              "      <td>2018.000000</td>\n",
              "      <td>9.000000</td>\n",
              "      <td>83.000000</td>\n",
              "    </tr>\n",
              "  </tbody>\n",
              "</table>\n",
              "</div>"
            ],
            "text/plain": [
              "              YEAR  HOUSEHOLD_SIZE          AGE\n",
              "count  3235.000000     3235.000000  3235.000000\n",
              "mean   2017.209274        3.458733    39.342195\n",
              "std       0.878402        2.034887    13.943035\n",
              "min    2016.000000        0.000000    16.000000\n",
              "25%    2016.000000        2.000000    29.000000\n",
              "50%    2018.000000        3.000000    36.000000\n",
              "75%    2018.000000        5.000000    47.500000\n",
              "max    2018.000000        9.000000    83.000000"
            ]
          },
          "metadata": {
            "tags": []
          },
          "execution_count": 203
        }
      ]
    },
    {
      "cell_type": "code",
      "metadata": {
        "id": "XiGCuIuGpYUp"
      },
      "source": [
        "#Filtering for no bank accounts\r\n",
        "all_no_account=finance_inclusion[finance_inclusion['HAS_A_BANK_ACCOUNT']=='No']\r\n"
      ],
      "execution_count": 204,
      "outputs": []
    },
    {
      "cell_type": "code",
      "metadata": {
        "colab": {
          "base_uri": "https://localhost:8080/"
        },
        "id": "Yjjnoat0p_PP",
        "outputId": "036fb559-6745-4df8-a370-06340d7068fb"
      },
      "source": [
        "#Most Common Age with no Bank Account\r\n",
        "all_no_account['AGE'].mode()"
      ],
      "execution_count": 205,
      "outputs": [
        {
          "output_type": "execute_result",
          "data": {
            "text/plain": [
              "0    30.0\n",
              "dtype: float64"
            ]
          },
          "metadata": {
            "tags": []
          },
          "execution_count": 205
        }
      ]
    },
    {
      "cell_type": "code",
      "metadata": {
        "colab": {
          "base_uri": "https://localhost:8080/"
        },
        "id": "vDE7GqN4qdqX",
        "outputId": "708f90b3-0e46-4632-f88f-06bf68c6256e"
      },
      "source": [
        "#Median\r\n",
        "all_no_account['AGE'].median()"
      ],
      "execution_count": 206,
      "outputs": [
        {
          "output_type": "execute_result",
          "data": {
            "text/plain": [
              "35.0"
            ]
          },
          "metadata": {
            "tags": []
          },
          "execution_count": 206
        }
      ]
    },
    {
      "cell_type": "code",
      "metadata": {
        "colab": {
          "base_uri": "https://localhost:8080/",
          "height": 0
        },
        "id": "OCOrhHPwqk9v",
        "outputId": "a8ccb88b-6fb5-46ac-b6b5-d14eba5f9c01"
      },
      "source": [
        "#More Analysis using Describe()\r\n",
        "all_no_account.describe()"
      ],
      "execution_count": 207,
      "outputs": [
        {
          "output_type": "execute_result",
          "data": {
            "text/html": [
              "<div>\n",
              "<style scoped>\n",
              "    .dataframe tbody tr th:only-of-type {\n",
              "        vertical-align: middle;\n",
              "    }\n",
              "\n",
              "    .dataframe tbody tr th {\n",
              "        vertical-align: top;\n",
              "    }\n",
              "\n",
              "    .dataframe thead th {\n",
              "        text-align: right;\n",
              "    }\n",
              "</style>\n",
              "<table border=\"1\" class=\"dataframe\">\n",
              "  <thead>\n",
              "    <tr style=\"text-align: right;\">\n",
              "      <th></th>\n",
              "      <th>YEAR</th>\n",
              "      <th>HOUSEHOLD_SIZE</th>\n",
              "      <th>AGE</th>\n",
              "    </tr>\n",
              "  </thead>\n",
              "  <tbody>\n",
              "    <tr>\n",
              "      <th>count</th>\n",
              "      <td>19490.000000</td>\n",
              "      <td>19490.000000</td>\n",
              "      <td>19490.000000</td>\n",
              "    </tr>\n",
              "    <tr>\n",
              "      <th>mean</th>\n",
              "      <td>2016.928168</td>\n",
              "      <td>3.599949</td>\n",
              "      <td>38.182966</td>\n",
              "    </tr>\n",
              "    <tr>\n",
              "      <th>std</th>\n",
              "      <td>0.834238</td>\n",
              "      <td>2.087395</td>\n",
              "      <td>16.088908</td>\n",
              "    </tr>\n",
              "    <tr>\n",
              "      <th>min</th>\n",
              "      <td>2016.000000</td>\n",
              "      <td>0.000000</td>\n",
              "      <td>16.000000</td>\n",
              "    </tr>\n",
              "    <tr>\n",
              "      <th>25%</th>\n",
              "      <td>2016.000000</td>\n",
              "      <td>2.000000</td>\n",
              "      <td>25.000000</td>\n",
              "    </tr>\n",
              "    <tr>\n",
              "      <th>50%</th>\n",
              "      <td>2017.000000</td>\n",
              "      <td>3.000000</td>\n",
              "      <td>35.000000</td>\n",
              "    </tr>\n",
              "    <tr>\n",
              "      <th>75%</th>\n",
              "      <td>2018.000000</td>\n",
              "      <td>5.000000</td>\n",
              "      <td>49.000000</td>\n",
              "    </tr>\n",
              "    <tr>\n",
              "      <th>max</th>\n",
              "      <td>2018.000000</td>\n",
              "      <td>9.000000</td>\n",
              "      <td>83.000000</td>\n",
              "    </tr>\n",
              "  </tbody>\n",
              "</table>\n",
              "</div>"
            ],
            "text/plain": [
              "               YEAR  HOUSEHOLD_SIZE           AGE\n",
              "count  19490.000000    19490.000000  19490.000000\n",
              "mean    2016.928168        3.599949     38.182966\n",
              "std        0.834238        2.087395     16.088908\n",
              "min     2016.000000        0.000000     16.000000\n",
              "25%     2016.000000        2.000000     25.000000\n",
              "50%     2017.000000        3.000000     35.000000\n",
              "75%     2018.000000        5.000000     49.000000\n",
              "max     2018.000000        9.000000     83.000000"
            ]
          },
          "metadata": {
            "tags": []
          },
          "execution_count": 207
        }
      ]
    },
    {
      "cell_type": "markdown",
      "metadata": {
        "id": "Ule7umHbs9Ke"
      },
      "source": [
        "# **2. Bivariate Analysis**"
      ]
    },
    {
      "cell_type": "code",
      "metadata": {
        "colab": {
          "base_uri": "https://localhost:8080/",
          "height": 0
        },
        "id": "jLaS_uzjy0MX",
        "outputId": "eba8675c-b570-48e1-e065-8cb102685ee6"
      },
      "source": [
        "#Crossplots\r\n",
        "\r\n",
        "sns.pairplot(finance_inclusion, hue='COUNTRY', diag_kind='kde',plot_kws = {'alpha': 0.6, 's': 80, 'edgecolor': 'k'},\r\n",
        "             size= 4 )\r\n",
        "#Title\r\n",
        "#plt.suptitle('Pair Plot of Financial Inclusion Data 2016-2018', size=20)"
      ],
      "execution_count": 208,
      "outputs": [
        {
          "output_type": "stream",
          "text": [
            "/usr/local/lib/python3.7/dist-packages/seaborn/axisgrid.py:1969: UserWarning: The `size` parameter has been renamed to `height`; please update your code.\n",
            "  warnings.warn(msg, UserWarning)\n",
            "/usr/local/lib/python3.7/dist-packages/seaborn/distributions.py:306: UserWarning: Dataset has 0 variance; skipping density estimate.\n",
            "  warnings.warn(msg, UserWarning)\n",
            "/usr/local/lib/python3.7/dist-packages/seaborn/distributions.py:306: UserWarning: Dataset has 0 variance; skipping density estimate.\n",
            "  warnings.warn(msg, UserWarning)\n",
            "/usr/local/lib/python3.7/dist-packages/seaborn/distributions.py:306: UserWarning: Dataset has 0 variance; skipping density estimate.\n",
            "  warnings.warn(msg, UserWarning)\n",
            "/usr/local/lib/python3.7/dist-packages/seaborn/distributions.py:306: UserWarning: Dataset has 0 variance; skipping density estimate.\n",
            "  warnings.warn(msg, UserWarning)\n"
          ],
          "name": "stderr"
        },
        {
          "output_type": "execute_result",
          "data": {
            "text/plain": [
              "<seaborn.axisgrid.PairGrid at 0x7fdc72ee6210>"
            ]
          },
          "metadata": {
            "tags": []
          },
          "execution_count": 208
        },
        {
          "output_type": "display_data",
          "data": {
            "image/png": "[encoded data removed]",
            "text/plain": [
              "<Figure size 943.5x864 with 12 Axes>"
            ]
          },
          "metadata": {
            "tags": [],
            "needs_background": "light"
          }
        }
      ]
    },
    {
      "cell_type": "code",
      "metadata": {
        "colab": {
          "base_uri": "https://localhost:8080/",
          "height": 0
        },
        "id": "2m4UYOsj0aQb",
        "outputId": "e5319019-f0f9-481e-e469-e26c4d012f0b"
      },
      "source": [
        "sns.pairplot(finance_inclusion, diag_kind='kde')\r\n"
      ],
      "execution_count": 209,
      "outputs": [
        {
          "output_type": "execute_result",
          "data": {
            "text/plain": [
              "<seaborn.axisgrid.PairGrid at 0x7fdc7349a210>"
            ]
          },
          "metadata": {
            "tags": []
          },
          "execution_count": 209
        },
        {
          "output_type": "display_data",
          "data": {
            "image/png": "[encoded data removed]",
            "text/plain": [
              "<Figure size 540x540 with 12 Axes>"
            ]
          },
          "metadata": {
            "tags": [],
            "needs_background": "light"
          }
        }
      ]
    },
    {
      "cell_type": "code",
      "metadata": {
        "colab": {
          "base_uri": "https://localhost:8080/",
          "height": 0
        },
        "id": "LFg8rtoM0S3C",
        "outputId": "56124fc6-30d2-49e2-ff78-30c39d002e97"
      },
      "source": [
        "#General Overview of our dataset using heatmaps\r\n",
        "#Heatmap below shows how the various variables correlate\r\n",
        "sns.heatmap(finance_inclusion.corr(),annot=True)\r\n",
        "plt.show()"
      ],
      "execution_count": 210,
      "outputs": [
        {
          "output_type": "display_data",
          "data": {
            "image/png": "[encoded data removed]",
            "text/plain": [
              "<Figure size 432x288 with 2 Axes>"
            ]
          },
          "metadata": {
            "tags": [],
            "needs_background": "light"
          }
        }
      ]
    },
    {
      "cell_type": "code",
      "metadata": {
        "colab": {
          "base_uri": "https://localhost:8080/",
          "height": 0
        },
        "id": "_n601Af2E8uY",
        "outputId": "908eaea1-ab2a-4ef3-932f-dea272d2133a"
      },
      "source": [
        "finance_inclusion.corr()"
      ],
      "execution_count": 211,
      "outputs": [
        {
          "output_type": "execute_result",
          "data": {
            "text/html": [
              "<div>\n",
              "<style scoped>\n",
              "    .dataframe tbody tr th:only-of-type {\n",
              "        vertical-align: middle;\n",
              "    }\n",
              "\n",
              "    .dataframe tbody tr th {\n",
              "        vertical-align: top;\n",
              "    }\n",
              "\n",
              "    .dataframe thead th {\n",
              "        text-align: right;\n",
              "    }\n",
              "</style>\n",
              "<table border=\"1\" class=\"dataframe\">\n",
              "  <thead>\n",
              "    <tr style=\"text-align: right;\">\n",
              "      <th></th>\n",
              "      <th>YEAR</th>\n",
              "      <th>HOUSEHOLD_SIZE</th>\n",
              "      <th>AGE</th>\n",
              "    </tr>\n",
              "  </thead>\n",
              "  <tbody>\n",
              "    <tr>\n",
              "      <th>YEAR</th>\n",
              "      <td>1.000000</td>\n",
              "      <td>-0.096684</td>\n",
              "      <td>-0.023538</td>\n",
              "    </tr>\n",
              "    <tr>\n",
              "      <th>HOUSEHOLD_SIZE</th>\n",
              "      <td>-0.096684</td>\n",
              "      <td>1.000000</td>\n",
              "      <td>-0.106209</td>\n",
              "    </tr>\n",
              "    <tr>\n",
              "      <th>AGE</th>\n",
              "      <td>-0.023538</td>\n",
              "      <td>-0.106209</td>\n",
              "      <td>1.000000</td>\n",
              "    </tr>\n",
              "  </tbody>\n",
              "</table>\n",
              "</div>"
            ],
            "text/plain": [
              "                    YEAR  HOUSEHOLD_SIZE       AGE\n",
              "YEAR            1.000000       -0.096684 -0.023538\n",
              "HOUSEHOLD_SIZE -0.096684        1.000000 -0.106209\n",
              "AGE            -0.023538       -0.106209  1.000000"
            ]
          },
          "metadata": {
            "tags": []
          },
          "execution_count": 211
        }
      ]
    },
    {
      "cell_type": "code",
      "metadata": {
        "colab": {
          "base_uri": "https://localhost:8080/",
          "height": 0
        },
        "id": "w035piXu4sZs",
        "outputId": "aa876c31-891a-49fe-bf04-47a229de6f04"
      },
      "source": [
        "sns.regplot(x=kenya_with_account['AGE'], y = kenya_with_account['HOUSEHOLD_SIZE'], fit_reg=False)\r\n",
        "plt.title('Household Size Vs Age Scatterplot')\r\n",
        "\r\n",
        "#There is no relationship between age and household size for Kenyans with bank accounts "
      ],
      "execution_count": 212,
      "outputs": [
        {
          "output_type": "execute_result",
          "data": {
            "text/plain": [
              "Text(0.5, 1.0, 'Household Size Vs Age Scatterplot')"
            ]
          },
          "metadata": {
            "tags": []
          },
          "execution_count": 212
        },
        {
          "output_type": "display_data",
          "data": {
            "image/png": "[encoded data removed]",
            "text/plain": [
              "<Figure size 432x288 with 1 Axes>"
            ]
          },
          "metadata": {
            "tags": [],
            "needs_background": "light"
          }
        }
      ]
    },
    {
      "cell_type": "code",
      "metadata": {
        "colab": {
          "base_uri": "https://localhost:8080/"
        },
        "id": "XNhLVA1KCDA4",
        "outputId": "9909513f-83d5-4f2a-b307-6fcf0c23e2bf"
      },
      "source": [
        "#Calculating the Pearson Coefficient\r\n",
        "pearson_coeff = kenya_with_account['AGE'].corr(kenya_with_account['HOUSEHOLD_SIZE'], method='pearson')\r\n",
        "print(pearson_coeff)\r\n",
        "\r\n",
        "#THe results below i.e our Pearson Coefficient bear us out. There is no relationship between age and household size"
      ],
      "execution_count": 213,
      "outputs": [
        {
          "output_type": "stream",
          "text": [
            "0.025155474043803368\n"
          ],
          "name": "stdout"
        }
      ]
    },
    {
      "cell_type": "code",
      "metadata": {
        "colab": {
          "base_uri": "https://localhost:8080/"
        },
        "id": "yQAudZx7C7nT",
        "outputId": "aebb2a9d-e61a-498e-eaff-bcd19270f55c"
      },
      "source": [
        "#Calculating the Pearson coefficient for all the countries \r\n",
        "p_c= finance_inclusion['AGE'].corr(finance_inclusion['HOUSEHOLD_SIZE'], method='pearson')\r\n",
        "print(p_c)\r\n",
        "#For all countries in the datset, there is a weak linear correlation between Age and Household_Size"
      ],
      "execution_count": 214,
      "outputs": [
        {
          "output_type": "stream",
          "text": [
            "-0.1062088216975987\n"
          ],
          "name": "stdout"
        }
      ]
    },
    {
      "cell_type": "code",
      "metadata": {
        "id": "3DVEvCxuEuuF"
      },
      "source": [
        ""
      ],
      "execution_count": 214,
      "outputs": []
    },
    {
      "cell_type": "markdown",
      "metadata": {
        "id": "ypjutQYEEjF5"
      },
      "source": [
        "# Categorical Data"
      ]
    },
    {
      "cell_type": "code",
      "metadata": {
        "id": "zYpWVbRmEm8K"
      },
      "source": [
        "#kenya_with_account[['HAS_A_BANK_ACCOUNT', 'AGE', 'YEAR']].plot(kind='bar', figsize=(8,6), stacked=True)"
      ],
      "execution_count": 215,
      "outputs": []
    },
    {
      "cell_type": "markdown",
      "metadata": {
        "id": "6Ecxk5q7Pgz8"
      },
      "source": [
        "**Hypothesis:**\r\n",
        "There is a statistically significant difference in Gender(male and Female) between people with and without Bank Accounts"
      ]
    },
    {
      "cell_type": "code",
      "metadata": {
        "id": "4yNzMdIPOmCA"
      },
      "source": [
        "# We run a Chi-Square Test to check whether we can accept the above hypothesis\r\n",
        "\r\n",
        "\r\n",
        "#Importing the relevant library for hypothesis testing\r\n",
        "from scipy.stats import chi2_contingency"
      ],
      "execution_count": 216,
      "outputs": []
    },
    {
      "cell_type": "code",
      "metadata": {
        "colab": {
          "base_uri": "https://localhost:8080/",
          "height": 0
        },
        "id": "YCVTxtHiQNHT",
        "outputId": "352b5a64-c1c0-44cc-f495-233ce3fae20f"
      },
      "source": [
        "#Convert the data into a contingency table with frequencies\r\n",
        "cont_freq= pd.crosstab(finance_inclusion['GENDER'], finance_inclusion['HAS_A_BANK_ACCOUNT'])\r\n",
        "cont_freq"
      ],
      "execution_count": 217,
      "outputs": [
        {
          "output_type": "execute_result",
          "data": {
            "text/html": [
              "<div>\n",
              "<style scoped>\n",
              "    .dataframe tbody tr th:only-of-type {\n",
              "        vertical-align: middle;\n",
              "    }\n",
              "\n",
              "    .dataframe tbody tr th {\n",
              "        vertical-align: top;\n",
              "    }\n",
              "\n",
              "    .dataframe thead th {\n",
              "        text-align: right;\n",
              "    }\n",
              "</style>\n",
              "<table border=\"1\" class=\"dataframe\">\n",
              "  <thead>\n",
              "    <tr style=\"text-align: right;\">\n",
              "      <th>HAS_A_BANK_ACCOUNT</th>\n",
              "      <th>No</th>\n",
              "      <th>Yes</th>\n",
              "    </tr>\n",
              "    <tr>\n",
              "      <th>GENDER</th>\n",
              "      <th></th>\n",
              "      <th></th>\n",
              "    </tr>\n",
              "  </thead>\n",
              "  <tbody>\n",
              "    <tr>\n",
              "      <th>Female</th>\n",
              "      <td>11944</td>\n",
              "      <td>1453</td>\n",
              "    </tr>\n",
              "    <tr>\n",
              "      <th>Male</th>\n",
              "      <td>7546</td>\n",
              "      <td>1782</td>\n",
              "    </tr>\n",
              "  </tbody>\n",
              "</table>\n",
              "</div>"
            ],
            "text/plain": [
              "HAS_A_BANK_ACCOUNT     No   Yes\n",
              "GENDER                         \n",
              "Female              11944  1453\n",
              "Male                 7546  1782"
            ]
          },
          "metadata": {
            "tags": []
          },
          "execution_count": 217
        }
      ]
    },
    {
      "cell_type": "code",
      "metadata": {
        "colab": {
          "base_uri": "https://localhost:8080/",
          "height": 0
        },
        "id": "aXsY8y25TBGV",
        "outputId": "5146bb80-c62a-4457-bd2e-2355a4c478d6"
      },
      "source": [
        "#Deriving Percentages by Gender rows\r\n",
        "cont_freq_pct = pd.crosstab(finance_inclusion['GENDER'], finance_inclusion['HAS_A_BANK_ACCOUNT'], normalize='index')\r\n",
        "cont_freq_pct"
      ],
      "execution_count": 218,
      "outputs": [
        {
          "output_type": "execute_result",
          "data": {
            "text/html": [
              "<div>\n",
              "<style scoped>\n",
              "    .dataframe tbody tr th:only-of-type {\n",
              "        vertical-align: middle;\n",
              "    }\n",
              "\n",
              "    .dataframe tbody tr th {\n",
              "        vertical-align: top;\n",
              "    }\n",
              "\n",
              "    .dataframe thead th {\n",
              "        text-align: right;\n",
              "    }\n",
              "</style>\n",
              "<table border=\"1\" class=\"dataframe\">\n",
              "  <thead>\n",
              "    <tr style=\"text-align: right;\">\n",
              "      <th>HAS_A_BANK_ACCOUNT</th>\n",
              "      <th>No</th>\n",
              "      <th>Yes</th>\n",
              "    </tr>\n",
              "    <tr>\n",
              "      <th>GENDER</th>\n",
              "      <th></th>\n",
              "      <th></th>\n",
              "    </tr>\n",
              "  </thead>\n",
              "  <tbody>\n",
              "    <tr>\n",
              "      <th>Female</th>\n",
              "      <td>0.891543</td>\n",
              "      <td>0.108457</td>\n",
              "    </tr>\n",
              "    <tr>\n",
              "      <th>Male</th>\n",
              "      <td>0.808962</td>\n",
              "      <td>0.191038</td>\n",
              "    </tr>\n",
              "  </tbody>\n",
              "</table>\n",
              "</div>"
            ],
            "text/plain": [
              "HAS_A_BANK_ACCOUNT        No       Yes\n",
              "GENDER                                \n",
              "Female              0.891543  0.108457\n",
              "Male                0.808962  0.191038"
            ]
          },
          "metadata": {
            "tags": []
          },
          "execution_count": 218
        }
      ]
    },
    {
      "cell_type": "code",
      "metadata": {
        "colab": {
          "base_uri": "https://localhost:8080/",
          "height": 0
        },
        "id": "GgcuNWbWT4ql",
        "outputId": "ec659c37-c9b8-49dd-cfef-985713e7d63b"
      },
      "source": [
        "#We visualize the contingency tables using Heatmaps\r\n",
        "plt.figure(figsize=(12,8))\r\n",
        "sns.heatmap(cont_freq_pct, annot = True, cmap=\"cubehelix\")"
      ],
      "execution_count": 219,
      "outputs": [
        {
          "output_type": "execute_result",
          "data": {
            "text/plain": [
              "<matplotlib.axes._subplots.AxesSubplot at 0x7fdc72736b10>"
            ]
          },
          "metadata": {
            "tags": []
          },
          "execution_count": 219
        },
        {
          "output_type": "display_data",
          "data": {
            "image/png": "[encoded data removed]",
            "text/plain": [
              "<Figure size 864x576 with 2 Axes>"
            ]
          },
          "metadata": {
            "tags": [],
            "needs_background": "light"
          }
        }
      ]
    },
    {
      "cell_type": "markdown",
      "metadata": {
        "id": "8mrpPnfoWjMK"
      },
      "source": [
        "#Passing the contingency table to Chi2_contingency function will yield:\r\n",
        "#Chi2: The Test Statistic\r\n",
        "#p: The p-value of the test\r\n",
        "#dof: Degrees of freedom\r\n",
        "#expected: The expected frequencies, based on the marginal sums of the table"
      ]
    },
    {
      "cell_type": "code",
      "metadata": {
        "colab": {
          "base_uri": "https://localhost:8080/"
        },
        "id": "6jw0QiunVyIe",
        "outputId": "43bf791e-3367-47b3-cab6-518e658d15e5"
      },
      "source": [
        "#Chi-square test of independence\r\n",
        "c,p, dof, expected=chi2_contingency(cont_freq_pct)\r\n",
        "print(p)\r\n"
      ],
      "execution_count": 220,
      "outputs": [
        {
          "output_type": "stream",
          "text": [
            "0.06906069531474153\n"
          ],
          "name": "stdout"
        }
      ]
    },
    {
      "cell_type": "markdown",
      "metadata": {
        "id": "gypWeUkzX_wF"
      },
      "source": [
        "#The p-value is 6.8%. We therefore do not reject the null hypothesis at 95% Confidence that there is a statistically significant difference between people with banks and without banks along gender lines. "
      ]
    },
    {
      "cell_type": "code",
      "metadata": {
        "id": "x8VqT2webUZY"
      },
      "source": [
        "#Hypothesis testing for Bank Account Vs Level of education "
      ],
      "execution_count": 221,
      "outputs": []
    },
    {
      "cell_type": "markdown",
      "metadata": {
        "id": "nkQONF2wbEvc"
      },
      "source": [
        "**Hypothesis:** There is a statistically significant difference in bank account ownership and education level"
      ]
    },
    {
      "cell_type": "code",
      "metadata": {
        "colab": {
          "base_uri": "https://localhost:8080/",
          "height": 287
        },
        "id": "4BMKfvGLbf2D",
        "outputId": "9f27195d-4efb-46ac-b286-324430a9c18b"
      },
      "source": [
        "#Converting our data into Frequency Tables\r\n",
        "cont_ed= pd.crosstab(finance_inclusion['EDUCATION_LEVEL'], finance_inclusion['HAS_A_BANK_ACCOUNT'])\r\n",
        "cont_ed"
      ],
      "execution_count": 222,
      "outputs": [
        {
          "output_type": "execute_result",
          "data": {
            "text/html": [
              "<div>\n",
              "<style scoped>\n",
              "    .dataframe tbody tr th:only-of-type {\n",
              "        vertical-align: middle;\n",
              "    }\n",
              "\n",
              "    .dataframe tbody tr th {\n",
              "        vertical-align: top;\n",
              "    }\n",
              "\n",
              "    .dataframe thead th {\n",
              "        text-align: right;\n",
              "    }\n",
              "</style>\n",
              "<table border=\"1\" class=\"dataframe\">\n",
              "  <thead>\n",
              "    <tr style=\"text-align: right;\">\n",
              "      <th>HAS_A_BANK_ACCOUNT</th>\n",
              "      <th>No</th>\n",
              "      <th>Yes</th>\n",
              "    </tr>\n",
              "    <tr>\n",
              "      <th>EDUCATION_LEVEL</th>\n",
              "      <th></th>\n",
              "      <th></th>\n",
              "    </tr>\n",
              "  </thead>\n",
              "  <tbody>\n",
              "    <tr>\n",
              "      <th>6</th>\n",
              "      <td>20</td>\n",
              "      <td>5</td>\n",
              "    </tr>\n",
              "    <tr>\n",
              "      <th>No formal education</th>\n",
              "      <td>4071</td>\n",
              "      <td>161</td>\n",
              "    </tr>\n",
              "    <tr>\n",
              "      <th>Other/Dont know/RTA</th>\n",
              "      <td>0</td>\n",
              "      <td>6</td>\n",
              "    </tr>\n",
              "    <tr>\n",
              "      <th>Primary education</th>\n",
              "      <td>11382</td>\n",
              "      <td>1061</td>\n",
              "    </tr>\n",
              "    <tr>\n",
              "      <th>Secondary education</th>\n",
              "      <td>3132</td>\n",
              "      <td>968</td>\n",
              "    </tr>\n",
              "    <tr>\n",
              "      <th>Tertiary education</th>\n",
              "      <td>550</td>\n",
              "      <td>584</td>\n",
              "    </tr>\n",
              "    <tr>\n",
              "      <th>Vocational/Specialised training</th>\n",
              "      <td>335</td>\n",
              "      <td>450</td>\n",
              "    </tr>\n",
              "  </tbody>\n",
              "</table>\n",
              "</div>"
            ],
            "text/plain": [
              "HAS_A_BANK_ACCOUNT                  No   Yes\n",
              "EDUCATION_LEVEL                             \n",
              "6                                   20     5\n",
              "No formal education               4071   161\n",
              "Other/Dont know/RTA                  0     6\n",
              "Primary education                11382  1061\n",
              "Secondary education               3132   968\n",
              "Tertiary education                 550   584\n",
              "Vocational/Specialised training    335   450"
            ]
          },
          "metadata": {
            "tags": []
          },
          "execution_count": 222
        }
      ]
    },
    {
      "cell_type": "code",
      "metadata": {
        "colab": {
          "base_uri": "https://localhost:8080/",
          "height": 287
        },
        "id": "SqJG0E-db9dq",
        "outputId": "7930d756-76ad-4790-d298-ff1128f4b579"
      },
      "source": [
        "#Derving Percentages of from our frequency tables\r\n",
        "cont_ed_pct = pd.crosstab(finance_inclusion['EDUCATION_LEVEL'], finance_inclusion['HAS_A_BANK_ACCOUNT'], normalize='index')\r\n",
        "cont_ed_pct"
      ],
      "execution_count": 223,
      "outputs": [
        {
          "output_type": "execute_result",
          "data": {
            "text/html": [
              "<div>\n",
              "<style scoped>\n",
              "    .dataframe tbody tr th:only-of-type {\n",
              "        vertical-align: middle;\n",
              "    }\n",
              "\n",
              "    .dataframe tbody tr th {\n",
              "        vertical-align: top;\n",
              "    }\n",
              "\n",
              "    .dataframe thead th {\n",
              "        text-align: right;\n",
              "    }\n",
              "</style>\n",
              "<table border=\"1\" class=\"dataframe\">\n",
              "  <thead>\n",
              "    <tr style=\"text-align: right;\">\n",
              "      <th>HAS_A_BANK_ACCOUNT</th>\n",
              "      <th>No</th>\n",
              "      <th>Yes</th>\n",
              "    </tr>\n",
              "    <tr>\n",
              "      <th>EDUCATION_LEVEL</th>\n",
              "      <th></th>\n",
              "      <th></th>\n",
              "    </tr>\n",
              "  </thead>\n",
              "  <tbody>\n",
              "    <tr>\n",
              "      <th>6</th>\n",
              "      <td>0.800000</td>\n",
              "      <td>0.200000</td>\n",
              "    </tr>\n",
              "    <tr>\n",
              "      <th>No formal education</th>\n",
              "      <td>0.961957</td>\n",
              "      <td>0.038043</td>\n",
              "    </tr>\n",
              "    <tr>\n",
              "      <th>Other/Dont know/RTA</th>\n",
              "      <td>0.000000</td>\n",
              "      <td>1.000000</td>\n",
              "    </tr>\n",
              "    <tr>\n",
              "      <th>Primary education</th>\n",
              "      <td>0.914731</td>\n",
              "      <td>0.085269</td>\n",
              "    </tr>\n",
              "    <tr>\n",
              "      <th>Secondary education</th>\n",
              "      <td>0.763902</td>\n",
              "      <td>0.236098</td>\n",
              "    </tr>\n",
              "    <tr>\n",
              "      <th>Tertiary education</th>\n",
              "      <td>0.485009</td>\n",
              "      <td>0.514991</td>\n",
              "    </tr>\n",
              "    <tr>\n",
              "      <th>Vocational/Specialised training</th>\n",
              "      <td>0.426752</td>\n",
              "      <td>0.573248</td>\n",
              "    </tr>\n",
              "  </tbody>\n",
              "</table>\n",
              "</div>"
            ],
            "text/plain": [
              "HAS_A_BANK_ACCOUNT                     No       Yes\n",
              "EDUCATION_LEVEL                                    \n",
              "6                                0.800000  0.200000\n",
              "No formal education              0.961957  0.038043\n",
              "Other/Dont know/RTA              0.000000  1.000000\n",
              "Primary education                0.914731  0.085269\n",
              "Secondary education              0.763902  0.236098\n",
              "Tertiary education               0.485009  0.514991\n",
              "Vocational/Specialised training  0.426752  0.573248"
            ]
          },
          "metadata": {
            "tags": []
          },
          "execution_count": 223
        }
      ]
    },
    {
      "cell_type": "code",
      "metadata": {
        "colab": {
          "base_uri": "https://localhost:8080/",
          "height": 520
        },
        "id": "5TmWhcqTcQ7Q",
        "outputId": "4baa3a47-24c9-4f93-a9ab-bd12083b2cb3"
      },
      "source": [
        "#We visualize the contingency tables using Heatmaps\r\n",
        "plt.figure(figsize=(12,8))\r\n",
        "sns.heatmap(cont_ed_pct, annot = True, cmap=\"RdYlBu\")"
      ],
      "execution_count": 224,
      "outputs": [
        {
          "output_type": "execute_result",
          "data": {
            "text/plain": [
              "<matplotlib.axes._subplots.AxesSubplot at 0x7fdc726c4550>"
            ]
          },
          "metadata": {
            "tags": []
          },
          "execution_count": 224
        },
        {
          "output_type": "display_data",
          "data": {
            "image/png": "[encoded data removed]",
            "text/plain": [
              "<Figure size 864x576 with 2 Axes>"
            ]
          },
          "metadata": {
            "tags": [],
            "needs_background": "light"
          }
        }
      ]
    },
    {
      "cell_type": "code",
      "metadata": {
        "colab": {
          "base_uri": "https://localhost:8080/"
        },
        "id": "mPv6aDV-dKnw",
        "outputId": "9ab1fd11-4d2b-4c57-ef08-e682a76eb58d"
      },
      "source": [
        "c,p, dof, expected=chi2_contingency(cont_ed_pct)\r\n",
        "print(p)\r\n"
      ],
      "execution_count": 127,
      "outputs": [
        {
          "output_type": "stream",
          "text": [
            "0.8134573678987598\n"
          ],
          "name": "stdout"
        }
      ]
    },
    {
      "cell_type": "markdown",
      "metadata": {
        "id": "8jQfIuWXdXTB"
      },
      "source": [
        "#The p-value is 92%. We do not reject the null hypothesis at 95% confidence level. THe level of education is a key factor in determining whether one has a bank account or not. "
      ]
    },
    {
      "cell_type": "markdown",
      "metadata": {
        "id": "UyMxVIjYus5H"
      },
      "source": [
        "# Job_Type Vs Bank Account"
      ]
    },
    {
      "cell_type": "code",
      "metadata": {
        "id": "FOVjJQw7esep"
      },
      "source": [
        "#Alternative hypotheis for Jobs\r\n",
        "#There is no statistically significant relationship between one's Job type and whether they have a bank account or not"
      ],
      "execution_count": 225,
      "outputs": []
    },
    {
      "cell_type": "code",
      "metadata": {
        "colab": {
          "base_uri": "https://localhost:8080/",
          "height": 0
        },
        "id": "NhOO-ZEed0Gp",
        "outputId": "41d9b8f0-e960-44c9-c17e-5aa1ae969244"
      },
      "source": [
        "cont_job= pd.crosstab(finance_inclusion['JOB_TYPE'], finance_inclusion['HAS_A_BANK_ACCOUNT'])\r\n",
        "cont_job"
      ],
      "execution_count": 226,
      "outputs": [
        {
          "output_type": "execute_result",
          "data": {
            "text/html": [
              "<div>\n",
              "<style scoped>\n",
              "    .dataframe tbody tr th:only-of-type {\n",
              "        vertical-align: middle;\n",
              "    }\n",
              "\n",
              "    .dataframe tbody tr th {\n",
              "        vertical-align: top;\n",
              "    }\n",
              "\n",
              "    .dataframe thead th {\n",
              "        text-align: right;\n",
              "    }\n",
              "</style>\n",
              "<table border=\"1\" class=\"dataframe\">\n",
              "  <thead>\n",
              "    <tr style=\"text-align: right;\">\n",
              "      <th>HAS_A_BANK_ACCOUNT</th>\n",
              "      <th>No</th>\n",
              "      <th>Yes</th>\n",
              "    </tr>\n",
              "    <tr>\n",
              "      <th>JOB_TYPE</th>\n",
              "      <th></th>\n",
              "      <th></th>\n",
              "    </tr>\n",
              "  </thead>\n",
              "  <tbody>\n",
              "    <tr>\n",
              "      <th>Dont Know/Refuse to answer</th>\n",
              "      <td>104</td>\n",
              "      <td>14</td>\n",
              "    </tr>\n",
              "    <tr>\n",
              "      <th>Farming and Fishing</th>\n",
              "      <td>4676</td>\n",
              "      <td>620</td>\n",
              "    </tr>\n",
              "    <tr>\n",
              "      <th>Formally employed Government</th>\n",
              "      <td>85</td>\n",
              "      <td>297</td>\n",
              "    </tr>\n",
              "    <tr>\n",
              "      <th>Formally employed Private</th>\n",
              "      <td>471</td>\n",
              "      <td>564</td>\n",
              "    </tr>\n",
              "    <tr>\n",
              "      <th>Government Dependent</th>\n",
              "      <td>168</td>\n",
              "      <td>41</td>\n",
              "    </tr>\n",
              "    <tr>\n",
              "      <th>Informally employed</th>\n",
              "      <td>5052</td>\n",
              "      <td>438</td>\n",
              "    </tr>\n",
              "    <tr>\n",
              "      <th>No Income</th>\n",
              "      <td>572</td>\n",
              "      <td>13</td>\n",
              "    </tr>\n",
              "    <tr>\n",
              "      <th>Other Income</th>\n",
              "      <td>843</td>\n",
              "      <td>183</td>\n",
              "    </tr>\n",
              "    <tr>\n",
              "      <th>Remittance Dependent</th>\n",
              "      <td>2145</td>\n",
              "      <td>230</td>\n",
              "    </tr>\n",
              "    <tr>\n",
              "      <th>Self employed</th>\n",
              "      <td>5374</td>\n",
              "      <td>835</td>\n",
              "    </tr>\n",
              "  </tbody>\n",
              "</table>\n",
              "</div>"
            ],
            "text/plain": [
              "HAS_A_BANK_ACCOUNT              No  Yes\n",
              "JOB_TYPE                               \n",
              "Dont Know/Refuse to answer     104   14\n",
              "Farming and Fishing           4676  620\n",
              "Formally employed Government    85  297\n",
              "Formally employed Private      471  564\n",
              "Government Dependent           168   41\n",
              "Informally employed           5052  438\n",
              "No Income                      572   13\n",
              "Other Income                   843  183\n",
              "Remittance Dependent          2145  230\n",
              "Self employed                 5374  835"
            ]
          },
          "metadata": {
            "tags": []
          },
          "execution_count": 226
        }
      ]
    },
    {
      "cell_type": "code",
      "metadata": {
        "colab": {
          "base_uri": "https://localhost:8080/",
          "height": 0
        },
        "id": "ukMYDdbleigs",
        "outputId": "d559fd22-826e-4441-d3fa-524e435fcbc5"
      },
      "source": [
        "cont_job_pct = pd.crosstab(finance_inclusion['JOB_TYPE'], finance_inclusion['HAS_A_BANK_ACCOUNT'], normalize='index')\r\n",
        "cont_job_pct"
      ],
      "execution_count": 227,
      "outputs": [
        {
          "output_type": "execute_result",
          "data": {
            "text/html": [
              "<div>\n",
              "<style scoped>\n",
              "    .dataframe tbody tr th:only-of-type {\n",
              "        vertical-align: middle;\n",
              "    }\n",
              "\n",
              "    .dataframe tbody tr th {\n",
              "        vertical-align: top;\n",
              "    }\n",
              "\n",
              "    .dataframe thead th {\n",
              "        text-align: right;\n",
              "    }\n",
              "</style>\n",
              "<table border=\"1\" class=\"dataframe\">\n",
              "  <thead>\n",
              "    <tr style=\"text-align: right;\">\n",
              "      <th>HAS_A_BANK_ACCOUNT</th>\n",
              "      <th>No</th>\n",
              "      <th>Yes</th>\n",
              "    </tr>\n",
              "    <tr>\n",
              "      <th>JOB_TYPE</th>\n",
              "      <th></th>\n",
              "      <th></th>\n",
              "    </tr>\n",
              "  </thead>\n",
              "  <tbody>\n",
              "    <tr>\n",
              "      <th>Dont Know/Refuse to answer</th>\n",
              "      <td>0.881356</td>\n",
              "      <td>0.118644</td>\n",
              "    </tr>\n",
              "    <tr>\n",
              "      <th>Farming and Fishing</th>\n",
              "      <td>0.882931</td>\n",
              "      <td>0.117069</td>\n",
              "    </tr>\n",
              "    <tr>\n",
              "      <th>Formally employed Government</th>\n",
              "      <td>0.222513</td>\n",
              "      <td>0.777487</td>\n",
              "    </tr>\n",
              "    <tr>\n",
              "      <th>Formally employed Private</th>\n",
              "      <td>0.455072</td>\n",
              "      <td>0.544928</td>\n",
              "    </tr>\n",
              "    <tr>\n",
              "      <th>Government Dependent</th>\n",
              "      <td>0.803828</td>\n",
              "      <td>0.196172</td>\n",
              "    </tr>\n",
              "    <tr>\n",
              "      <th>Informally employed</th>\n",
              "      <td>0.920219</td>\n",
              "      <td>0.079781</td>\n",
              "    </tr>\n",
              "    <tr>\n",
              "      <th>No Income</th>\n",
              "      <td>0.977778</td>\n",
              "      <td>0.022222</td>\n",
              "    </tr>\n",
              "    <tr>\n",
              "      <th>Other Income</th>\n",
              "      <td>0.821637</td>\n",
              "      <td>0.178363</td>\n",
              "    </tr>\n",
              "    <tr>\n",
              "      <th>Remittance Dependent</th>\n",
              "      <td>0.903158</td>\n",
              "      <td>0.096842</td>\n",
              "    </tr>\n",
              "    <tr>\n",
              "      <th>Self employed</th>\n",
              "      <td>0.865518</td>\n",
              "      <td>0.134482</td>\n",
              "    </tr>\n",
              "  </tbody>\n",
              "</table>\n",
              "</div>"
            ],
            "text/plain": [
              "HAS_A_BANK_ACCOUNT                  No       Yes\n",
              "JOB_TYPE                                        \n",
              "Dont Know/Refuse to answer    0.881356  0.118644\n",
              "Farming and Fishing           0.882931  0.117069\n",
              "Formally employed Government  0.222513  0.777487\n",
              "Formally employed Private     0.455072  0.544928\n",
              "Government Dependent          0.803828  0.196172\n",
              "Informally employed           0.920219  0.079781\n",
              "No Income                     0.977778  0.022222\n",
              "Other Income                  0.821637  0.178363\n",
              "Remittance Dependent          0.903158  0.096842\n",
              "Self employed                 0.865518  0.134482"
            ]
          },
          "metadata": {
            "tags": []
          },
          "execution_count": 227
        }
      ]
    },
    {
      "cell_type": "code",
      "metadata": {
        "colab": {
          "base_uri": "https://localhost:8080/",
          "height": 0
        },
        "id": "Ftmn9-6KfO1R",
        "outputId": "0d59aed4-94f5-47b3-b3d9-b266941dc3c1"
      },
      "source": [
        "plt.figure(figsize=(12,8))\r\n",
        "sns.heatmap(cont_job_pct, annot = True, cmap=\"cubehelix\")"
      ],
      "execution_count": 228,
      "outputs": [
        {
          "output_type": "execute_result",
          "data": {
            "text/plain": [
              "<matplotlib.axes._subplots.AxesSubplot at 0x7fdc72594810>"
            ]
          },
          "metadata": {
            "tags": []
          },
          "execution_count": 228
        },
        {
          "output_type": "display_data",
          "data": {
            "image/png": "[encoded data removed]",
            "text/plain": [
              "<Figure size 864x576 with 2 Axes>"
            ]
          },
          "metadata": {
            "tags": [],
            "needs_background": "light"
          }
        }
      ]
    },
    {
      "cell_type": "code",
      "metadata": {
        "colab": {
          "base_uri": "https://localhost:8080/"
        },
        "id": "-zmdaOLvfqPE",
        "outputId": "fcf2955a-437a-4d4b-8f3c-406cd80eb45b"
      },
      "source": [
        "c,p, dof, expected=chi2_contingency(cont_job_pct)\r\n",
        "print(p)\r\n",
        "print(c)\r\n",
        "#With a p-value of 96.6% at 95% level of confidence we reject the alternative hypotheis"
      ],
      "execution_count": 229,
      "outputs": [
        {
          "output_type": "stream",
          "text": [
            "0.9655027471083922\n",
            "2.9692208101524824\n"
          ],
          "name": "stdout"
        }
      ]
    },
    {
      "cell_type": "markdown",
      "metadata": {
        "id": "OV1p2YE_HO6x"
      },
      "source": [
        "# **3.0 Multivariate Analysis**"
      ]
    },
    {
      "cell_type": "markdown",
      "metadata": {
        "id": "lga0Vg3vxetD"
      },
      "source": [
        "# **Linear Discriminant Analysis**"
      ]
    },
    {
      "cell_type": "code",
      "metadata": {
        "colab": {
          "base_uri": "https://localhost:8080/",
          "height": 197
        },
        "id": "9sZyAOseluDF",
        "outputId": "cbb63a2e-c47a-4b97-cd37-53296ad113bb"
      },
      "source": [
        "finance_inclusion.head()"
      ],
      "execution_count": 230,
      "outputs": [
        {
          "output_type": "execute_result",
          "data": {
            "text/html": [
              "<div>\n",
              "<style scoped>\n",
              "    .dataframe tbody tr th:only-of-type {\n",
              "        vertical-align: middle;\n",
              "    }\n",
              "\n",
              "    .dataframe tbody tr th {\n",
              "        vertical-align: top;\n",
              "    }\n",
              "\n",
              "    .dataframe thead th {\n",
              "        text-align: right;\n",
              "    }\n",
              "</style>\n",
              "<table border=\"1\" class=\"dataframe\">\n",
              "  <thead>\n",
              "    <tr style=\"text-align: right;\">\n",
              "      <th></th>\n",
              "      <th>COUNTRY</th>\n",
              "      <th>YEAR</th>\n",
              "      <th>HAS_A_BANK_ACCOUNT</th>\n",
              "      <th>LOCATION</th>\n",
              "      <th>CELLPHONE_ACCESS</th>\n",
              "      <th>HOUSEHOLD_SIZE</th>\n",
              "      <th>AGE</th>\n",
              "      <th>GENDER</th>\n",
              "      <th>EDUCATION_LEVEL</th>\n",
              "      <th>JOB_TYPE</th>\n",
              "    </tr>\n",
              "  </thead>\n",
              "  <tbody>\n",
              "    <tr>\n",
              "      <th>0</th>\n",
              "      <td>Kenya</td>\n",
              "      <td>2018</td>\n",
              "      <td>Yes</td>\n",
              "      <td>Rural</td>\n",
              "      <td>Yes</td>\n",
              "      <td>3.0</td>\n",
              "      <td>24.0</td>\n",
              "      <td>Female</td>\n",
              "      <td>Secondary education</td>\n",
              "      <td>Self employed</td>\n",
              "    </tr>\n",
              "    <tr>\n",
              "      <th>1</th>\n",
              "      <td>Kenya</td>\n",
              "      <td>2018</td>\n",
              "      <td>No</td>\n",
              "      <td>Rural</td>\n",
              "      <td>No</td>\n",
              "      <td>5.0</td>\n",
              "      <td>70.0</td>\n",
              "      <td>Female</td>\n",
              "      <td>No formal education</td>\n",
              "      <td>Government Dependent</td>\n",
              "    </tr>\n",
              "    <tr>\n",
              "      <th>2</th>\n",
              "      <td>Kenya</td>\n",
              "      <td>2018</td>\n",
              "      <td>Yes</td>\n",
              "      <td>Urban</td>\n",
              "      <td>Yes</td>\n",
              "      <td>5.0</td>\n",
              "      <td>26.0</td>\n",
              "      <td>Male</td>\n",
              "      <td>Vocational/Specialised training</td>\n",
              "      <td>Self employed</td>\n",
              "    </tr>\n",
              "    <tr>\n",
              "      <th>3</th>\n",
              "      <td>Kenya</td>\n",
              "      <td>2018</td>\n",
              "      <td>No</td>\n",
              "      <td>Rural</td>\n",
              "      <td>Yes</td>\n",
              "      <td>5.0</td>\n",
              "      <td>34.0</td>\n",
              "      <td>Female</td>\n",
              "      <td>Primary education</td>\n",
              "      <td>Formally employed Private</td>\n",
              "    </tr>\n",
              "    <tr>\n",
              "      <th>4</th>\n",
              "      <td>Kenya</td>\n",
              "      <td>2018</td>\n",
              "      <td>No</td>\n",
              "      <td>Urban</td>\n",
              "      <td>No</td>\n",
              "      <td>8.0</td>\n",
              "      <td>26.0</td>\n",
              "      <td>Male</td>\n",
              "      <td>Primary education</td>\n",
              "      <td>Informally employed</td>\n",
              "    </tr>\n",
              "  </tbody>\n",
              "</table>\n",
              "</div>"
            ],
            "text/plain": [
              "  COUNTRY  YEAR  ...                  EDUCATION_LEVEL                   JOB_TYPE\n",
              "0   Kenya  2018  ...              Secondary education              Self employed\n",
              "1   Kenya  2018  ...              No formal education       Government Dependent\n",
              "2   Kenya  2018  ...  Vocational/Specialised training              Self employed\n",
              "3   Kenya  2018  ...                Primary education  Formally employed Private\n",
              "4   Kenya  2018  ...                Primary education        Informally employed\n",
              "\n",
              "[5 rows x 10 columns]"
            ]
          },
          "metadata": {
            "tags": []
          },
          "execution_count": 230
        }
      ]
    },
    {
      "cell_type": "code",
      "metadata": {
        "id": "EOB3lKiFiDO9"
      },
      "source": [
        "# Step 1: Once dataset is loaded into a pandas data frame object, the first step is to divide dataset \r\n",
        "# into features and corresponding labels and then divide the resultant dataset into training and test sets. \r\n",
        "# The following code divides data into labels and feature set. \r\n",
        "X= finance_inclusion[['AGE', 'YEAR','HOUSEHOLD_SIZE']]\r\n",
        "y= finance_inclusion['HAS_A_BANK_ACCOUNT']"
      ],
      "execution_count": 241,
      "outputs": []
    },
    {
      "cell_type": "code",
      "metadata": {
        "id": "LTEUKCyMkjic"
      },
      "source": [
        "# Step 2: The following code divides data into training and test sets\r\n",
        "#\r\n",
        "from sklearn.model_selection import train_test_split\r\n",
        "X_train, X_test, y_train, y_test = train_test_split(X, y, test_size=0.2, random_state=0)"
      ],
      "execution_count": 242,
      "outputs": []
    },
    {
      "cell_type": "code",
      "metadata": {
        "id": "KN3JOqoak6or"
      },
      "source": [
        "# Step 3: Feature scaling\r\n",
        "# We now need to perform feature scaling. We execute the following code to do so:\r\n",
        "# \r\n",
        "from sklearn.preprocessing import StandardScaler\r\n",
        "sc = StandardScaler()\r\n",
        "X_train = sc.fit_transform(X_train)\r\n",
        "X_test = sc.transform(X_test)"
      ],
      "execution_count": 243,
      "outputs": []
    },
    {
      "cell_type": "code",
      "metadata": {
        "id": "N-2LbuVtlBkb"
      },
      "source": [
        "# Step 4: Peforming LDA\r\n",
        "# It requires only four lines of code to perform LDA with Scikit-Learn. \r\n",
        "# The LinearDiscriminantAnalysis class of the sklearn.discriminant_analysis \r\n",
        "# library can be used to Perform LDA in Python. \r\n",
        "# Let's take a look at the following code\r\n",
        "#\r\n",
        "\r\n",
        "from sklearn.discriminant_analysis import LinearDiscriminantAnalysis as LDA\r\n",
        "lda = LDA(n_components=1)\r\n",
        "X_train = lda.fit_transform(X_train, y_train)\r\n",
        "X_test = lda.transform(X_test)\r\n",
        "# In the script above the LinearDiscriminantAnalysis class is imported as LDA. \r\n",
        "# We have to pass the value for the n_components parameter of the LDA, \r\n",
        "# which refers to the number of linear discriminates that we want to retrieve. \r\n",
        "# In this case we set the n_components to 1, since we first want to check the performance \r\n",
        "# of our classifier with a single linear discriminant. \r\n",
        "# Finally we execute the fit and transform methods to actually retrieve the linear discriminants.\r\n",
        "# Notice, in case of LDA, the transform method takes two parameters: the X_train and the y_train. \r\n",
        "# This reflects the fact that LDA takes the output class labels into account while selecting the linear discriminants."
      ],
      "execution_count": 244,
      "outputs": []
    },
    {
      "cell_type": "code",
      "metadata": {
        "id": "cpokU6cXwhIi"
      },
      "source": [
        "# Step 5: Training and Making Predictions\r\n",
        "# We will use the random forest classifier to evaluate the performance of a PCA-reduced algorithms as shown\r\n",
        "# \r\n",
        "\r\n",
        "from sklearn.ensemble import RandomForestClassifier\r\n",
        "\r\n",
        "classifier = RandomForestClassifier(max_depth=2, random_state=0)\r\n",
        "classifier.fit(X_train, y_train)\r\n",
        "y_pred = classifier.predict(X_test)"
      ],
      "execution_count": 245,
      "outputs": []
    },
    {
      "cell_type": "code",
      "metadata": {
        "colab": {
          "base_uri": "https://localhost:8080/"
        },
        "id": "Xs9riBaxwmvR",
        "outputId": "8567b21e-6a25-4a59-cd25-7efee0565189"
      },
      "source": [
        "# Step 6: Evaluating the Performance\r\n",
        "# As always, the last step is to evaluate performance of the algorithm \r\n",
        "# with the help of a confusion matrix and find the accuracy of the prediction.\r\n",
        "# \r\n",
        "\r\n",
        "from sklearn.metrics import confusion_matrix\r\n",
        "from sklearn.metrics import accuracy_score\r\n",
        "\r\n",
        "cm = confusion_matrix(y_test, y_pred)\r\n",
        "print(cm)\r\n",
        "print('Accuracy' + str(accuracy_score(y_test, y_pred)))\r\n"
      ],
      "execution_count": 246,
      "outputs": [
        {
          "output_type": "stream",
          "text": [
            "[[3896    0]\n",
            " [ 649    0]]\n",
            "Accuracy0.8572057205720572\n"
          ],
          "name": "stdout"
        }
      ]
    },
    {
      "cell_type": "markdown",
      "metadata": {
        "id": "B6wqa8jjw1HJ"
      },
      "source": [
        "With one linear discriminant, the algorithm achieved an accuracy of 86%. This means that with an accuracy of 86% we can predict whether an individual is likely to have a bank account based on age, gender and location etc. "
      ]
    },
    {
      "cell_type": "markdown",
      "metadata": {
        "id": "VZsOHWfrxsD4"
      },
      "source": [
        "# **Principal Component Analysis**"
      ]
    },
    {
      "cell_type": "markdown",
      "metadata": {
        "id": "VqPCcteegAPw"
      },
      "source": [
        "We use the Principal Component Analysis to answer our question becuase it is the best technique used to emphasize variation and brings out strong patterns in a dataset. It will be best suited for our dataset which has more than 6 dimensions. "
      ]
    },
    {
      "cell_type": "code",
      "metadata": {
        "id": "EIMRGNk2jaCB"
      },
      "source": [
        "# Step 1: Preprocessing\r\n",
        "# The first preprocessing step is to divide the dataset into a feature set and corresponding labels. \r\n",
        "# The following script performs this task. The script below stores the feature sets into the X variable \r\n",
        "# and the series of corresponding labels in to the y variable.\r\n",
        "\r\n",
        "X= finance_inclusion[['AGE', 'YEAR','HOUSEHOLD_SIZE']]\r\n",
        "y= finance_inclusion['HAS_A_BANK_ACCOUNT']"
      ],
      "execution_count": 232,
      "outputs": []
    },
    {
      "cell_type": "code",
      "metadata": {
        "id": "STREbxuolDuy"
      },
      "source": [
        "# Step 2: Splitting the dataset into the Training set and Test set\r\n",
        "# The next preprocessing step is to divide data into training and test sets. \r\n",
        "# We execute the following script to do so:\r\n",
        "#\r\n",
        "from sklearn.model_selection import train_test_split\r\n",
        "\r\n",
        "X_train, X_test, y_train, y_test = train_test_split(X, y, test_size=0.2, random_state=0)"
      ],
      "execution_count": 233,
      "outputs": []
    },
    {
      "cell_type": "code",
      "metadata": {
        "id": "ShKbdxoZHODa"
      },
      "source": [
        "#Step 3:\r\n",
        "#Data Scaling\r\n",
        "#We first begin by standardizing our data to make sure there is no bias accorded on the basis of size\r\n",
        "#TO do this, we use the StandardSclaer from Scikit-Learn \r\n",
        "from sklearn.preprocessing import StandardScaler\r\n",
        "\r\n",
        "sc = StandardScaler()\r\n",
        "X_train = sc.fit_transform(X_train)\r\n",
        "X_test = sc.transform(X_test)"
      ],
      "execution_count": 234,
      "outputs": []
    },
    {
      "cell_type": "code",
      "metadata": {
        "id": "H4UdC6IDmvkL"
      },
      "source": [
        "#Step 4: PCA Application \r\n",
        "# Performing PCA using Scikit-Learn is a two-step process:\r\n",
        "# Initialize the PCA class by passing the number of components to the constructor.\r\n",
        "# Call the fit and then transform methods by passing the feature set to these methods. \r\n",
        "# The transform method returns the specified number of principal components.\r\n",
        "from sklearn.decomposition import PCA\r\n",
        "\r\n",
        "pca = PCA()\r\n",
        "X_train = pca.fit_transform(X_train)\r\n",
        "X_test = pca.transform(X_test)"
      ],
      "execution_count": 235,
      "outputs": []
    },
    {
      "cell_type": "code",
      "metadata": {
        "id": "Blk858nfnG2o"
      },
      "source": [
        "# Step 5: Explained Variance Ratio\r\n",
        "# The PCA class contains explained_variance_ratio_ which returns the variance caused by each of the principal components. \r\n",
        "# We execute the following line of code to find the \"explained variance ratio\".\r\n",
        "# \r\n",
        "explained_variance = pca.explained_variance_ratio_"
      ],
      "execution_count": 236,
      "outputs": []
    },
    {
      "cell_type": "code",
      "metadata": {
        "colab": {
          "base_uri": "https://localhost:8080/"
        },
        "id": "l95Gx4D3n1o5",
        "outputId": "8bbb6e83-af85-47a8-fc1a-94e74e4706d4"
      },
      "source": [
        "# The explained_variance variable is now a float type array which contains variance ratios for each principal component. \r\n",
        "# The values for the explained_variance variable looks like what is shown in the output. \r\n",
        "# It can be seen that first principal component is responsible for 37.47% variance. \r\n",
        "# Similarly, the second principal component causes 33.75% variance in the dataset. \r\n",
        "# Collectively we can say that (37.47 + 33.75) 71.22% percent of the classification information contained \r\n",
        "# in the feature set is captured by the first two principal components.\r\n",
        "explained_variance"
      ],
      "execution_count": 237,
      "outputs": [
        {
          "output_type": "execute_result",
          "data": {
            "text/plain": [
              "array([0.37830831, 0.340129  , 0.2815627 ])"
            ]
          },
          "metadata": {
            "tags": []
          },
          "execution_count": 237
        }
      ]
    },
    {
      "cell_type": "code",
      "metadata": {
        "id": "43asrC3epufI"
      },
      "source": [
        "# Step 6: Using 1 Principal Component\r\n",
        "# We will use 1 principal component to train our algorithm. To do so, we execute the following code:\r\n",
        "# \r\n",
        "from sklearn.decomposition import PCA\r\n",
        "\r\n",
        "#pca = PCA(n_components=1)\r\n",
        "X_train = pca.fit_transform(X_train)\r\n",
        "X_test = pca.transform(X_test)"
      ],
      "execution_count": 238,
      "outputs": []
    },
    {
      "cell_type": "code",
      "metadata": {
        "id": "bjQ8wgTiqMSA"
      },
      "source": [
        "# Step 7: Training and Making Predictions\r\n",
        "# In this case we'll use random forest classification for making the predictions.\r\n",
        "# \r\n",
        "from sklearn.ensemble import RandomForestClassifier\r\n",
        "\r\n",
        "classifier = RandomForestClassifier(max_depth=2, random_state=0)\r\n",
        "classifier.fit(X_train, y_train)\r\n",
        "\r\n",
        "# Predicting the Test set results\r\n",
        "y_pred = classifier.predict(X_test)"
      ],
      "execution_count": 239,
      "outputs": []
    },
    {
      "cell_type": "code",
      "metadata": {
        "colab": {
          "base_uri": "https://localhost:8080/"
        },
        "id": "6N6rCh56qir4",
        "outputId": "7ac96d1b-c6e0-4f11-aa5c-355405645b01"
      },
      "source": [
        "# Step 8: Performance Evaluation\r\n",
        "# \r\n",
        "from sklearn.metrics import confusion_matrix\r\n",
        "from sklearn.metrics import accuracy_score\r\n",
        "#from sklearn.multioutput import MultiOutputClassifier\r\n",
        "\r\n",
        "cm=confusion_matrix(y_test, y_pred)\r\n",
        "print(cm)\r\n",
        "print('Accuracy' , accuracy_score(y_test, y_pred))\r\n",
        "\r\n"
      ],
      "execution_count": 240,
      "outputs": [
        {
          "output_type": "stream",
          "text": [
            "[[3896    0]\n",
            " [ 649    0]]\n",
            "Accuracy 0.8572057205720572\n"
          ],
          "name": "stdout"
        }
      ]
    },
    {
      "cell_type": "markdown",
      "metadata": {
        "id": "s0IioJqjx6QK"
      },
      "source": [
        "Our model at 86% accuracy points to the influence age, gender and location have on whether one jas a bank account or not in East Africa"
      ]
    },
    {
      "cell_type": "markdown",
      "metadata": {
        "id": "j6fde64_uS2e"
      },
      "source": [
        "# **4.0 Follow Up Questions**"
      ]
    },
    {
      "cell_type": "markdown",
      "metadata": {
        "id": "6SEyerte2Etl"
      },
      "source": [
        "# a). Did we have the right data?"
      ]
    },
    {
      "cell_type": "markdown",
      "metadata": {
        "id": "YuuNOmKB2MPx"
      },
      "source": [
        "Yes, though the size of the data across the 4 countries was not the same. Uganda had less data comparatively. "
      ]
    },
    {
      "cell_type": "markdown",
      "metadata": {
        "id": "zWbipgVq2QiE"
      },
      "source": [
        "# b). Do we need other data to answer our question?"
      ]
    },
    {
      "cell_type": "markdown",
      "metadata": {
        "id": "8NPJmcOZ2Xiu"
      },
      "source": [
        "Yes, would have been helpful to have data showing the annual percentage growth in bank account ownership. Or ownership across different years. "
      ]
    },
    {
      "cell_type": "markdown",
      "metadata": {
        "id": "vzreDU9mlerM"
      },
      "source": [
        "**c). Did we ask the right Question**"
      ]
    },
    {
      "cell_type": "markdown",
      "metadata": {
        "id": "_UJU71o-lnJT"
      },
      "source": [
        "Yes, from the study we have indeed established that there is a relationship between age, gender and location and ownership of a bank account. "
      ]
    }
  ]
}